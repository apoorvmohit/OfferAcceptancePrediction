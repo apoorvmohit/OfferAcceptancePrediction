{
 "cells": [
  {
   "cell_type": "code",
   "execution_count": 96,
   "metadata": {
    "execution": {
     "iopub.execute_input": "2022-12-06T16:38:40.157381Z",
     "iopub.status.busy": "2022-12-06T16:38:40.156988Z",
     "iopub.status.idle": "2022-12-06T16:38:41.487702Z",
     "shell.execute_reply": "2022-12-06T16:38:41.486384Z",
     "shell.execute_reply.started": "2022-12-06T16:38:40.157345Z"
    }
   },
   "outputs": [],
   "source": [
    "import numpy as np\n",
    "import pandas as pd\n",
    "import matplotlib.pyplot as plt\n",
    "import seaborn as sns\n",
    "import sklearn\n",
    "import pickle"
   ]
  },
  {
   "cell_type": "markdown",
   "metadata": {},
   "source": [
    "# **Loading Data**"
   ]
  },
  {
   "cell_type": "code",
   "execution_count": 97,
   "metadata": {
    "execution": {
     "iopub.execute_input": "2022-12-06T16:38:41.490168Z",
     "iopub.status.busy": "2022-12-06T16:38:41.489632Z",
     "iopub.status.idle": "2022-12-06T16:38:41.678707Z",
     "shell.execute_reply": "2022-12-06T16:38:41.677364Z",
     "shell.execute_reply.started": "2022-12-06T16:38:41.490098Z"
    }
   },
   "outputs": [],
   "source": [
    "train_data = pd.read_csv(r\"C:\\Users\\Apoorv\\OneDrive\\Desktop\\MLProject\\train_data.csv\")\n",
    "test_data = pd.read_csv(r\"C:\\Users\\Apoorv\\OneDrive\\Desktop\\MLProject\\test_data.csv\")"
   ]
  },
  {
   "cell_type": "code",
   "execution_count": 98,
   "metadata": {
    "execution": {
     "iopub.execute_input": "2022-12-06T16:38:41.681708Z",
     "iopub.status.busy": "2022-12-06T16:38:41.680544Z",
     "iopub.status.idle": "2022-12-06T16:38:41.726133Z",
     "shell.execute_reply": "2022-12-06T16:38:41.725242Z",
     "shell.execute_reply.started": "2022-12-06T16:38:41.681642Z"
    }
   },
   "outputs": [
    {
     "name": "stdout",
     "output_type": "stream",
     "text": [
      "<class 'pandas.core.frame.DataFrame'>\n",
      "RangeIndex: 12379 entries, 0 to 12378\n",
      "Data columns (total 31 columns):\n",
      " #   Column                                Non-Null Count  Dtype \n",
      "---  ------                                --------------  ----- \n",
      " 0   offer expiration                      12379 non-null  object\n",
      " 1   income_range                          12379 non-null  object\n",
      " 2   no_visited_Cold drinks                12181 non-null  object\n",
      " 3   travelled_more_than_15mins_for_offer  12379 non-null  int64 \n",
      " 4   Restaur_spend_less_than20             12258 non-null  object\n",
      " 5   Marital Status                        12379 non-null  object\n",
      " 6   restaurant type                       12379 non-null  object\n",
      " 7   age                                   12379 non-null  object\n",
      " 8   Prefer western over chinese           12379 non-null  int64 \n",
      " 9   travelled_more_than_25mins_for_offer  12379 non-null  int64 \n",
      " 10  travelled_more_than_5mins_for_offer   12379 non-null  int64 \n",
      " 11  no_visited_bars                       12286 non-null  object\n",
      " 12  gender                                12379 non-null  object\n",
      " 13  car                                   111 non-null    object\n",
      " 14  restuarant_same_direction_house       12379 non-null  int64 \n",
      " 15  Cooks regularly                       12379 non-null  int64 \n",
      " 16  Customer type                         12379 non-null  object\n",
      " 17  Qualification                         12379 non-null  object\n",
      " 18  is foodie                             12379 non-null  int64 \n",
      " 19  no_Take-aways                         12235 non-null  object\n",
      " 20  Job/Job Industry                      12379 non-null  object\n",
      " 21  restuarant_opposite_direction_house   12379 non-null  int64 \n",
      " 22  has Children                          12379 non-null  int64 \n",
      " 23  visit restaurant with rating (avg)    12379 non-null  int64 \n",
      " 24  temperature                           12379 non-null  int64 \n",
      " 25  Restaur_spend_greater_than20          12219 non-null  object\n",
      " 26  Travel Time                           12379 non-null  int64 \n",
      " 27  Climate                               12379 non-null  object\n",
      " 28  drop location                         12379 non-null  object\n",
      " 29  Prefer home food                      12379 non-null  int64 \n",
      " 30  Offer Accepted                        12379 non-null  object\n",
      "dtypes: int64(13), object(18)\n",
      "memory usage: 2.9+ MB\n"
     ]
    }
   ],
   "source": [
    "train_data.info()"
   ]
  },
  {
   "cell_type": "code",
   "execution_count": 99,
   "metadata": {
    "execution": {
     "iopub.execute_input": "2022-12-06T17:05:03.229378Z",
     "iopub.status.busy": "2022-12-06T17:05:03.228809Z",
     "iopub.status.idle": "2022-12-06T17:05:03.238961Z",
     "shell.execute_reply": "2022-12-06T17:05:03.237400Z",
     "shell.execute_reply.started": "2022-12-06T17:05:03.229328Z"
    }
   },
   "outputs": [
    {
     "data": {
      "text/plain": [
       "(12379, 31)"
      ]
     },
     "execution_count": 99,
     "metadata": {},
     "output_type": "execute_result"
    }
   ],
   "source": [
    "train_data.shape"
   ]
  },
  {
   "cell_type": "code",
   "execution_count": 100,
   "metadata": {
    "execution": {
     "iopub.execute_input": "2022-12-06T16:38:41.730930Z",
     "iopub.status.busy": "2022-12-06T16:38:41.729777Z",
     "iopub.status.idle": "2022-12-06T16:38:41.755744Z",
     "shell.execute_reply": "2022-12-06T16:38:41.754365Z",
     "shell.execute_reply.started": "2022-12-06T16:38:41.730873Z"
    }
   },
   "outputs": [
    {
     "name": "stdout",
     "output_type": "stream",
     "text": [
      "<class 'pandas.core.frame.DataFrame'>\n",
      "RangeIndex: 5305 entries, 0 to 5304\n",
      "Data columns (total 30 columns):\n",
      " #   Column                                Non-Null Count  Dtype \n",
      "---  ------                                --------------  ----- \n",
      " 0   offer expiration                      5305 non-null   object\n",
      " 1   income_range                          5305 non-null   object\n",
      " 2   no_visited_Cold drinks                5215 non-null   object\n",
      " 3   travelled_more_than_15mins_for_offer  5305 non-null   int64 \n",
      " 4   Restaur_spend_less_than20             5244 non-null   object\n",
      " 5   Marital Status                        5305 non-null   object\n",
      " 6   restaurant type                       5305 non-null   object\n",
      " 7   age                                   5305 non-null   object\n",
      " 8   Prefer western over chinese           5305 non-null   int64 \n",
      " 9   travelled_more_than_25mins_for_offer  5305 non-null   int64 \n",
      " 10  travelled_more_than_5mins_for_offer   5305 non-null   int64 \n",
      " 11  no_visited_bars                       5255 non-null   object\n",
      " 12  gender                                5305 non-null   object\n",
      " 13  car                                   43 non-null     object\n",
      " 14  restuarant_same_direction_house       5305 non-null   int64 \n",
      " 15  Cooks regularly                       5305 non-null   int64 \n",
      " 16  Customer type                         5305 non-null   object\n",
      " 17  Qualification                         5305 non-null   object\n",
      " 18  is foodie                             5305 non-null   int64 \n",
      " 19  no_Take-aways                         5245 non-null   object\n",
      " 20  Job/Job Industry                      5305 non-null   object\n",
      " 21  restuarant_opposite_direction_house   5305 non-null   int64 \n",
      " 22  has Children                          5305 non-null   int64 \n",
      " 23  visit restaurant with rating (avg)    5305 non-null   int64 \n",
      " 24  temperature                           5305 non-null   int64 \n",
      " 25  Restaur_spend_greater_than20          5201 non-null   object\n",
      " 26  Travel Time                           5305 non-null   int64 \n",
      " 27  Climate                               5305 non-null   object\n",
      " 28  drop location                         5305 non-null   object\n",
      " 29  Prefer home food                      5305 non-null   int64 \n",
      "dtypes: int64(13), object(17)\n",
      "memory usage: 1.2+ MB\n"
     ]
    }
   ],
   "source": [
    "test_data.info()"
   ]
  },
  {
   "cell_type": "code",
   "execution_count": 101,
   "metadata": {
    "execution": {
     "iopub.execute_input": "2022-12-06T16:38:41.759313Z",
     "iopub.status.busy": "2022-12-06T16:38:41.758200Z",
     "iopub.status.idle": "2022-12-06T16:38:41.799423Z",
     "shell.execute_reply": "2022-12-06T16:38:41.798155Z",
     "shell.execute_reply.started": "2022-12-06T16:38:41.759261Z"
    }
   },
   "outputs": [
    {
     "data": {
      "text/html": [
       "<div>\n",
       "<style scoped>\n",
       "    .dataframe tbody tr th:only-of-type {\n",
       "        vertical-align: middle;\n",
       "    }\n",
       "\n",
       "    .dataframe tbody tr th {\n",
       "        vertical-align: top;\n",
       "    }\n",
       "\n",
       "    .dataframe thead th {\n",
       "        text-align: right;\n",
       "    }\n",
       "</style>\n",
       "<table border=\"1\" class=\"dataframe\">\n",
       "  <thead>\n",
       "    <tr style=\"text-align: right;\">\n",
       "      <th></th>\n",
       "      <th>offer expiration</th>\n",
       "      <th>income_range</th>\n",
       "      <th>no_visited_Cold drinks</th>\n",
       "      <th>travelled_more_than_15mins_for_offer</th>\n",
       "      <th>Restaur_spend_less_than20</th>\n",
       "      <th>Marital Status</th>\n",
       "      <th>restaurant type</th>\n",
       "      <th>age</th>\n",
       "      <th>Prefer western over chinese</th>\n",
       "      <th>travelled_more_than_25mins_for_offer</th>\n",
       "      <th>...</th>\n",
       "      <th>restuarant_opposite_direction_house</th>\n",
       "      <th>has Children</th>\n",
       "      <th>visit restaurant with rating (avg)</th>\n",
       "      <th>temperature</th>\n",
       "      <th>Restaur_spend_greater_than20</th>\n",
       "      <th>Travel Time</th>\n",
       "      <th>Climate</th>\n",
       "      <th>drop location</th>\n",
       "      <th>Prefer home food</th>\n",
       "      <th>Offer Accepted</th>\n",
       "    </tr>\n",
       "  </thead>\n",
       "  <tbody>\n",
       "    <tr>\n",
       "      <th>0</th>\n",
       "      <td>2days</td>\n",
       "      <td>₹100000 or More</td>\n",
       "      <td>4~8</td>\n",
       "      <td>1</td>\n",
       "      <td>less1</td>\n",
       "      <td>Married partner</td>\n",
       "      <td>4 star restaurant</td>\n",
       "      <td>36</td>\n",
       "      <td>0</td>\n",
       "      <td>0</td>\n",
       "      <td>...</td>\n",
       "      <td>0</td>\n",
       "      <td>0</td>\n",
       "      <td>4</td>\n",
       "      <td>67</td>\n",
       "      <td>less1</td>\n",
       "      <td>22</td>\n",
       "      <td>Spring</td>\n",
       "      <td>Location B</td>\n",
       "      <td>0</td>\n",
       "      <td>No</td>\n",
       "    </tr>\n",
       "    <tr>\n",
       "      <th>1</th>\n",
       "      <td>2days</td>\n",
       "      <td>₹87500 - ₹99999</td>\n",
       "      <td>4~8</td>\n",
       "      <td>0</td>\n",
       "      <td>4~8</td>\n",
       "      <td>Married partner</td>\n",
       "      <td>Take-away restaurant</td>\n",
       "      <td>50plus</td>\n",
       "      <td>0</td>\n",
       "      <td>0</td>\n",
       "      <td>...</td>\n",
       "      <td>0</td>\n",
       "      <td>1</td>\n",
       "      <td>3</td>\n",
       "      <td>89</td>\n",
       "      <td>1~3</td>\n",
       "      <td>18</td>\n",
       "      <td>Summer</td>\n",
       "      <td>Location B</td>\n",
       "      <td>0</td>\n",
       "      <td>Yes</td>\n",
       "    </tr>\n",
       "    <tr>\n",
       "      <th>2</th>\n",
       "      <td>2days</td>\n",
       "      <td>₹87500 - ₹99999</td>\n",
       "      <td>less1</td>\n",
       "      <td>1</td>\n",
       "      <td>1~3</td>\n",
       "      <td>Single</td>\n",
       "      <td>Cold drinks</td>\n",
       "      <td>26</td>\n",
       "      <td>1</td>\n",
       "      <td>0</td>\n",
       "      <td>...</td>\n",
       "      <td>1</td>\n",
       "      <td>1</td>\n",
       "      <td>4</td>\n",
       "      <td>67</td>\n",
       "      <td>less1</td>\n",
       "      <td>7</td>\n",
       "      <td>Winter</td>\n",
       "      <td>Location A</td>\n",
       "      <td>1</td>\n",
       "      <td>Yes</td>\n",
       "    </tr>\n",
       "    <tr>\n",
       "      <th>3</th>\n",
       "      <td>10hours</td>\n",
       "      <td>₹37500 - ₹49999</td>\n",
       "      <td>less1</td>\n",
       "      <td>0</td>\n",
       "      <td>1~3</td>\n",
       "      <td>Single</td>\n",
       "      <td>Take-away restaurant</td>\n",
       "      <td>46</td>\n",
       "      <td>1</td>\n",
       "      <td>0</td>\n",
       "      <td>...</td>\n",
       "      <td>0</td>\n",
       "      <td>1</td>\n",
       "      <td>3</td>\n",
       "      <td>89</td>\n",
       "      <td>1~3</td>\n",
       "      <td>7</td>\n",
       "      <td>Summer</td>\n",
       "      <td>Location C</td>\n",
       "      <td>0</td>\n",
       "      <td>No</td>\n",
       "    </tr>\n",
       "    <tr>\n",
       "      <th>4</th>\n",
       "      <td>2days</td>\n",
       "      <td>₹100000 or More</td>\n",
       "      <td>never</td>\n",
       "      <td>1</td>\n",
       "      <td>1~3</td>\n",
       "      <td>Single</td>\n",
       "      <td>4 star restaurant</td>\n",
       "      <td>21</td>\n",
       "      <td>0</td>\n",
       "      <td>1</td>\n",
       "      <td>...</td>\n",
       "      <td>1</td>\n",
       "      <td>0</td>\n",
       "      <td>3</td>\n",
       "      <td>40</td>\n",
       "      <td>less1</td>\n",
       "      <td>7</td>\n",
       "      <td>Summer</td>\n",
       "      <td>Location C</td>\n",
       "      <td>0</td>\n",
       "      <td>No</td>\n",
       "    </tr>\n",
       "    <tr>\n",
       "      <th>5</th>\n",
       "      <td>10hours</td>\n",
       "      <td>Less than ₹12500</td>\n",
       "      <td>4~8</td>\n",
       "      <td>1</td>\n",
       "      <td>gt8</td>\n",
       "      <td>Divorced</td>\n",
       "      <td>Take-away restaurant</td>\n",
       "      <td>50plus</td>\n",
       "      <td>1</td>\n",
       "      <td>0</td>\n",
       "      <td>...</td>\n",
       "      <td>1</td>\n",
       "      <td>0</td>\n",
       "      <td>0</td>\n",
       "      <td>40</td>\n",
       "      <td>less1</td>\n",
       "      <td>22</td>\n",
       "      <td>Spring</td>\n",
       "      <td>Location C</td>\n",
       "      <td>0</td>\n",
       "      <td>Yes</td>\n",
       "    </tr>\n",
       "    <tr>\n",
       "      <th>6</th>\n",
       "      <td>2days</td>\n",
       "      <td>Less than ₹12500</td>\n",
       "      <td>less1</td>\n",
       "      <td>1</td>\n",
       "      <td>1~3</td>\n",
       "      <td>Single</td>\n",
       "      <td>Cold drinks</td>\n",
       "      <td>below21</td>\n",
       "      <td>0</td>\n",
       "      <td>0</td>\n",
       "      <td>...</td>\n",
       "      <td>0</td>\n",
       "      <td>0</td>\n",
       "      <td>0</td>\n",
       "      <td>89</td>\n",
       "      <td>never</td>\n",
       "      <td>7</td>\n",
       "      <td>Spring</td>\n",
       "      <td>Location C</td>\n",
       "      <td>0</td>\n",
       "      <td>Yes</td>\n",
       "    </tr>\n",
       "    <tr>\n",
       "      <th>7</th>\n",
       "      <td>2days</td>\n",
       "      <td>₹50000 - ₹62499</td>\n",
       "      <td>never</td>\n",
       "      <td>1</td>\n",
       "      <td>1~3</td>\n",
       "      <td>Married partner</td>\n",
       "      <td>Restaurant with pub</td>\n",
       "      <td>50plus</td>\n",
       "      <td>0</td>\n",
       "      <td>0</td>\n",
       "      <td>...</td>\n",
       "      <td>1</td>\n",
       "      <td>1</td>\n",
       "      <td>0</td>\n",
       "      <td>40</td>\n",
       "      <td>less1</td>\n",
       "      <td>10</td>\n",
       "      <td>Summer</td>\n",
       "      <td>Location B</td>\n",
       "      <td>0</td>\n",
       "      <td>No</td>\n",
       "    </tr>\n",
       "    <tr>\n",
       "      <th>8</th>\n",
       "      <td>10hours</td>\n",
       "      <td>₹12500 - ₹24999</td>\n",
       "      <td>less1</td>\n",
       "      <td>1</td>\n",
       "      <td>less1</td>\n",
       "      <td>Single</td>\n",
       "      <td>Restaurant with pub</td>\n",
       "      <td>41</td>\n",
       "      <td>1</td>\n",
       "      <td>0</td>\n",
       "      <td>...</td>\n",
       "      <td>1</td>\n",
       "      <td>1</td>\n",
       "      <td>1</td>\n",
       "      <td>89</td>\n",
       "      <td>never</td>\n",
       "      <td>7</td>\n",
       "      <td>Summer</td>\n",
       "      <td>Location C</td>\n",
       "      <td>0</td>\n",
       "      <td>No</td>\n",
       "    </tr>\n",
       "    <tr>\n",
       "      <th>9</th>\n",
       "      <td>10hours</td>\n",
       "      <td>₹75000 - ₹87499</td>\n",
       "      <td>4~8</td>\n",
       "      <td>1</td>\n",
       "      <td>1~3</td>\n",
       "      <td>Married partner</td>\n",
       "      <td>4 star restaurant</td>\n",
       "      <td>41</td>\n",
       "      <td>1</td>\n",
       "      <td>0</td>\n",
       "      <td>...</td>\n",
       "      <td>1</td>\n",
       "      <td>1</td>\n",
       "      <td>0</td>\n",
       "      <td>67</td>\n",
       "      <td>less1</td>\n",
       "      <td>22</td>\n",
       "      <td>Winter</td>\n",
       "      <td>Location B</td>\n",
       "      <td>0</td>\n",
       "      <td>Yes</td>\n",
       "    </tr>\n",
       "  </tbody>\n",
       "</table>\n",
       "<p>10 rows × 31 columns</p>\n",
       "</div>"
      ],
      "text/plain": [
       "  offer expiration      income_range no_visited_Cold drinks  \\\n",
       "0            2days   ₹100000 or More                    4~8   \n",
       "1            2days   ₹87500 - ₹99999                    4~8   \n",
       "2            2days   ₹87500 - ₹99999                  less1   \n",
       "3          10hours   ₹37500 - ₹49999                  less1   \n",
       "4            2days   ₹100000 or More                  never   \n",
       "5          10hours  Less than ₹12500                    4~8   \n",
       "6            2days  Less than ₹12500                  less1   \n",
       "7            2days   ₹50000 - ₹62499                  never   \n",
       "8          10hours   ₹12500 - ₹24999                  less1   \n",
       "9          10hours   ₹75000 - ₹87499                    4~8   \n",
       "\n",
       "   travelled_more_than_15mins_for_offer Restaur_spend_less_than20  \\\n",
       "0                                     1                     less1   \n",
       "1                                     0                       4~8   \n",
       "2                                     1                       1~3   \n",
       "3                                     0                       1~3   \n",
       "4                                     1                       1~3   \n",
       "5                                     1                       gt8   \n",
       "6                                     1                       1~3   \n",
       "7                                     1                       1~3   \n",
       "8                                     1                     less1   \n",
       "9                                     1                       1~3   \n",
       "\n",
       "    Marital Status       restaurant type      age  \\\n",
       "0  Married partner     4 star restaurant       36   \n",
       "1  Married partner  Take-away restaurant   50plus   \n",
       "2           Single           Cold drinks       26   \n",
       "3           Single  Take-away restaurant       46   \n",
       "4           Single     4 star restaurant       21   \n",
       "5         Divorced  Take-away restaurant   50plus   \n",
       "6           Single           Cold drinks  below21   \n",
       "7  Married partner   Restaurant with pub   50plus   \n",
       "8           Single   Restaurant with pub       41   \n",
       "9  Married partner     4 star restaurant       41   \n",
       "\n",
       "   Prefer western over chinese  travelled_more_than_25mins_for_offer  ...  \\\n",
       "0                            0                                     0  ...   \n",
       "1                            0                                     0  ...   \n",
       "2                            1                                     0  ...   \n",
       "3                            1                                     0  ...   \n",
       "4                            0                                     1  ...   \n",
       "5                            1                                     0  ...   \n",
       "6                            0                                     0  ...   \n",
       "7                            0                                     0  ...   \n",
       "8                            1                                     0  ...   \n",
       "9                            1                                     0  ...   \n",
       "\n",
       "   restuarant_opposite_direction_house has Children  \\\n",
       "0                                    0            0   \n",
       "1                                    0            1   \n",
       "2                                    1            1   \n",
       "3                                    0            1   \n",
       "4                                    1            0   \n",
       "5                                    1            0   \n",
       "6                                    0            0   \n",
       "7                                    1            1   \n",
       "8                                    1            1   \n",
       "9                                    1            1   \n",
       "\n",
       "  visit restaurant with rating (avg) temperature  \\\n",
       "0                                  4          67   \n",
       "1                                  3          89   \n",
       "2                                  4          67   \n",
       "3                                  3          89   \n",
       "4                                  3          40   \n",
       "5                                  0          40   \n",
       "6                                  0          89   \n",
       "7                                  0          40   \n",
       "8                                  1          89   \n",
       "9                                  0          67   \n",
       "\n",
       "   Restaur_spend_greater_than20  Travel Time Climate drop location  \\\n",
       "0                         less1           22  Spring    Location B   \n",
       "1                           1~3           18  Summer    Location B   \n",
       "2                         less1            7  Winter    Location A   \n",
       "3                           1~3            7  Summer    Location C   \n",
       "4                         less1            7  Summer    Location C   \n",
       "5                         less1           22  Spring    Location C   \n",
       "6                         never            7  Spring    Location C   \n",
       "7                         less1           10  Summer    Location B   \n",
       "8                         never            7  Summer    Location C   \n",
       "9                         less1           22  Winter    Location B   \n",
       "\n",
       "   Prefer home food Offer Accepted  \n",
       "0                 0             No  \n",
       "1                 0            Yes  \n",
       "2                 1            Yes  \n",
       "3                 0             No  \n",
       "4                 0             No  \n",
       "5                 0            Yes  \n",
       "6                 0            Yes  \n",
       "7                 0             No  \n",
       "8                 0             No  \n",
       "9                 0            Yes  \n",
       "\n",
       "[10 rows x 31 columns]"
      ]
     },
     "execution_count": 101,
     "metadata": {},
     "output_type": "execute_result"
    }
   ],
   "source": [
    "train_data.head(10)"
   ]
  },
  {
   "cell_type": "code",
   "execution_count": 102,
   "metadata": {
    "execution": {
     "iopub.execute_input": "2022-12-06T16:38:41.804980Z",
     "iopub.status.busy": "2022-12-06T16:38:41.800917Z",
     "iopub.status.idle": "2022-12-06T16:38:41.836690Z",
     "shell.execute_reply": "2022-12-06T16:38:41.834127Z",
     "shell.execute_reply.started": "2022-12-06T16:38:41.804933Z"
    }
   },
   "outputs": [
    {
     "data": {
      "text/html": [
       "<div>\n",
       "<style scoped>\n",
       "    .dataframe tbody tr th:only-of-type {\n",
       "        vertical-align: middle;\n",
       "    }\n",
       "\n",
       "    .dataframe tbody tr th {\n",
       "        vertical-align: top;\n",
       "    }\n",
       "\n",
       "    .dataframe thead th {\n",
       "        text-align: right;\n",
       "    }\n",
       "</style>\n",
       "<table border=\"1\" class=\"dataframe\">\n",
       "  <thead>\n",
       "    <tr style=\"text-align: right;\">\n",
       "      <th></th>\n",
       "      <th>offer expiration</th>\n",
       "      <th>income_range</th>\n",
       "      <th>no_visited_Cold drinks</th>\n",
       "      <th>travelled_more_than_15mins_for_offer</th>\n",
       "      <th>Restaur_spend_less_than20</th>\n",
       "      <th>Marital Status</th>\n",
       "      <th>restaurant type</th>\n",
       "      <th>age</th>\n",
       "      <th>Prefer western over chinese</th>\n",
       "      <th>travelled_more_than_25mins_for_offer</th>\n",
       "      <th>...</th>\n",
       "      <th>Job/Job Industry</th>\n",
       "      <th>restuarant_opposite_direction_house</th>\n",
       "      <th>has Children</th>\n",
       "      <th>visit restaurant with rating (avg)</th>\n",
       "      <th>temperature</th>\n",
       "      <th>Restaur_spend_greater_than20</th>\n",
       "      <th>Travel Time</th>\n",
       "      <th>Climate</th>\n",
       "      <th>drop location</th>\n",
       "      <th>Prefer home food</th>\n",
       "    </tr>\n",
       "  </thead>\n",
       "  <tbody>\n",
       "    <tr>\n",
       "      <th>0</th>\n",
       "      <td>2days</td>\n",
       "      <td>₹37500 - ₹49999</td>\n",
       "      <td>1~3</td>\n",
       "      <td>1</td>\n",
       "      <td>1~3</td>\n",
       "      <td>Divorced</td>\n",
       "      <td>Take-away restaurant</td>\n",
       "      <td>50plus</td>\n",
       "      <td>0</td>\n",
       "      <td>1</td>\n",
       "      <td>...</td>\n",
       "      <td>Sales &amp; Related</td>\n",
       "      <td>1</td>\n",
       "      <td>1</td>\n",
       "      <td>4</td>\n",
       "      <td>89</td>\n",
       "      <td>less1</td>\n",
       "      <td>7</td>\n",
       "      <td>Summer</td>\n",
       "      <td>Location C</td>\n",
       "      <td>0</td>\n",
       "    </tr>\n",
       "    <tr>\n",
       "      <th>1</th>\n",
       "      <td>10hours</td>\n",
       "      <td>₹25000 - ₹37499</td>\n",
       "      <td>4~8</td>\n",
       "      <td>0</td>\n",
       "      <td>1~3</td>\n",
       "      <td>Unmarried partner</td>\n",
       "      <td>Cold drinks</td>\n",
       "      <td>21</td>\n",
       "      <td>1</td>\n",
       "      <td>0</td>\n",
       "      <td>...</td>\n",
       "      <td>Computer &amp; Mathematical</td>\n",
       "      <td>1</td>\n",
       "      <td>1</td>\n",
       "      <td>0</td>\n",
       "      <td>67</td>\n",
       "      <td>less1</td>\n",
       "      <td>18</td>\n",
       "      <td>Summer</td>\n",
       "      <td>Location A</td>\n",
       "      <td>1</td>\n",
       "    </tr>\n",
       "    <tr>\n",
       "      <th>2</th>\n",
       "      <td>2days</td>\n",
       "      <td>₹100000 or More</td>\n",
       "      <td>never</td>\n",
       "      <td>1</td>\n",
       "      <td>never</td>\n",
       "      <td>Single</td>\n",
       "      <td>Cold drinks</td>\n",
       "      <td>21</td>\n",
       "      <td>1</td>\n",
       "      <td>0</td>\n",
       "      <td>...</td>\n",
       "      <td>Unemployed</td>\n",
       "      <td>1</td>\n",
       "      <td>0</td>\n",
       "      <td>4</td>\n",
       "      <td>67</td>\n",
       "      <td>never</td>\n",
       "      <td>7</td>\n",
       "      <td>Summer</td>\n",
       "      <td>Location C</td>\n",
       "      <td>0</td>\n",
       "    </tr>\n",
       "    <tr>\n",
       "      <th>3</th>\n",
       "      <td>2days</td>\n",
       "      <td>₹25000 - ₹37499</td>\n",
       "      <td>never</td>\n",
       "      <td>1</td>\n",
       "      <td>1~3</td>\n",
       "      <td>Married partner</td>\n",
       "      <td>Restaurant with pub</td>\n",
       "      <td>41</td>\n",
       "      <td>0</td>\n",
       "      <td>0</td>\n",
       "      <td>...</td>\n",
       "      <td>Unemployed</td>\n",
       "      <td>1</td>\n",
       "      <td>1</td>\n",
       "      <td>0</td>\n",
       "      <td>40</td>\n",
       "      <td>less1</td>\n",
       "      <td>18</td>\n",
       "      <td>Spring</td>\n",
       "      <td>Location C</td>\n",
       "      <td>1</td>\n",
       "    </tr>\n",
       "    <tr>\n",
       "      <th>4</th>\n",
       "      <td>10hours</td>\n",
       "      <td>₹12500 - ₹24999</td>\n",
       "      <td>never</td>\n",
       "      <td>0</td>\n",
       "      <td>1~3</td>\n",
       "      <td>Single</td>\n",
       "      <td>2 star restaurant</td>\n",
       "      <td>31</td>\n",
       "      <td>1</td>\n",
       "      <td>0</td>\n",
       "      <td>...</td>\n",
       "      <td>Unemployed</td>\n",
       "      <td>0</td>\n",
       "      <td>0</td>\n",
       "      <td>0</td>\n",
       "      <td>89</td>\n",
       "      <td>1~3</td>\n",
       "      <td>18</td>\n",
       "      <td>Summer</td>\n",
       "      <td>Location B</td>\n",
       "      <td>1</td>\n",
       "    </tr>\n",
       "  </tbody>\n",
       "</table>\n",
       "<p>5 rows × 30 columns</p>\n",
       "</div>"
      ],
      "text/plain": [
       "  offer expiration     income_range no_visited_Cold drinks  \\\n",
       "0            2days  ₹37500 - ₹49999                    1~3   \n",
       "1          10hours  ₹25000 - ₹37499                    4~8   \n",
       "2            2days  ₹100000 or More                  never   \n",
       "3            2days  ₹25000 - ₹37499                  never   \n",
       "4          10hours  ₹12500 - ₹24999                  never   \n",
       "\n",
       "   travelled_more_than_15mins_for_offer Restaur_spend_less_than20  \\\n",
       "0                                     1                       1~3   \n",
       "1                                     0                       1~3   \n",
       "2                                     1                     never   \n",
       "3                                     1                       1~3   \n",
       "4                                     0                       1~3   \n",
       "\n",
       "      Marital Status       restaurant type     age  \\\n",
       "0           Divorced  Take-away restaurant  50plus   \n",
       "1  Unmarried partner           Cold drinks      21   \n",
       "2             Single           Cold drinks      21   \n",
       "3    Married partner   Restaurant with pub      41   \n",
       "4             Single     2 star restaurant      31   \n",
       "\n",
       "   Prefer western over chinese  travelled_more_than_25mins_for_offer  ...  \\\n",
       "0                            0                                     1  ...   \n",
       "1                            1                                     0  ...   \n",
       "2                            1                                     0  ...   \n",
       "3                            0                                     0  ...   \n",
       "4                            1                                     0  ...   \n",
       "\n",
       "          Job/Job Industry restuarant_opposite_direction_house has Children  \\\n",
       "0          Sales & Related                                   1            1   \n",
       "1  Computer & Mathematical                                   1            1   \n",
       "2               Unemployed                                   1            0   \n",
       "3               Unemployed                                   1            1   \n",
       "4               Unemployed                                   0            0   \n",
       "\n",
       "  visit restaurant with rating (avg)  temperature  \\\n",
       "0                                  4           89   \n",
       "1                                  0           67   \n",
       "2                                  4           67   \n",
       "3                                  0           40   \n",
       "4                                  0           89   \n",
       "\n",
       "   Restaur_spend_greater_than20 Travel Time Climate  drop location  \\\n",
       "0                         less1           7  Summer     Location C   \n",
       "1                         less1          18  Summer     Location A   \n",
       "2                         never           7  Summer     Location C   \n",
       "3                         less1          18  Spring     Location C   \n",
       "4                           1~3          18  Summer     Location B   \n",
       "\n",
       "  Prefer home food  \n",
       "0                0  \n",
       "1                1  \n",
       "2                0  \n",
       "3                1  \n",
       "4                1  \n",
       "\n",
       "[5 rows x 30 columns]"
      ]
     },
     "execution_count": 102,
     "metadata": {},
     "output_type": "execute_result"
    }
   ],
   "source": [
    "test_data.head()"
   ]
  },
  {
   "cell_type": "code",
   "execution_count": 103,
   "metadata": {
    "execution": {
     "iopub.execute_input": "2022-12-06T17:05:56.393706Z",
     "iopub.status.busy": "2022-12-06T17:05:56.392672Z",
     "iopub.status.idle": "2022-12-06T17:05:56.400255Z",
     "shell.execute_reply": "2022-12-06T17:05:56.399278Z",
     "shell.execute_reply.started": "2022-12-06T17:05:56.393667Z"
    }
   },
   "outputs": [
    {
     "data": {
      "text/plain": [
       "(5305, 30)"
      ]
     },
     "execution_count": 103,
     "metadata": {},
     "output_type": "execute_result"
    }
   ],
   "source": [
    "test_data.shape"
   ]
  },
  {
   "cell_type": "markdown",
   "metadata": {},
   "source": [
    "# **Exploratory Data Analysis**"
   ]
  },
  {
   "cell_type": "code",
   "execution_count": 104,
   "metadata": {
    "execution": {
     "iopub.execute_input": "2022-12-06T16:38:41.839380Z",
     "iopub.status.busy": "2022-12-06T16:38:41.838466Z",
     "iopub.status.idle": "2022-12-06T16:38:42.081647Z",
     "shell.execute_reply": "2022-12-06T16:38:42.080216Z",
     "shell.execute_reply.started": "2022-12-06T16:38:41.839328Z"
    }
   },
   "outputs": [
    {
     "data": {
      "image/png": "[encoded data removed]",
      "text/plain": [
       "<Figure size 432x576 with 1 Axes>"
      ]
     },
     "metadata": {
      "needs_background": "light"
     },
     "output_type": "display_data"
    }
   ],
   "source": [
    "f, ax = plt.subplots(figsize=(6, 8))\n",
    "ax = sns.countplot(x=\"Offer Accepted\", data= train_data, palette=\"Set1\")\n",
    "plt.show()"
   ]
  },
  {
   "cell_type": "code",
   "execution_count": 105,
   "metadata": {
    "execution": {
     "iopub.execute_input": "2022-12-06T17:11:55.900265Z",
     "iopub.status.busy": "2022-12-06T17:11:55.899165Z",
     "iopub.status.idle": "2022-12-06T17:11:55.906440Z",
     "shell.execute_reply": "2022-12-06T17:11:55.905246Z",
     "shell.execute_reply.started": "2022-12-06T17:11:55.900221Z"
    }
   },
   "outputs": [],
   "source": [
    "offeracceptedperc = (train_data['Offer Accepted'].value_counts('Yes'))/12379"
   ]
  },
  {
   "cell_type": "code",
   "execution_count": 106,
   "metadata": {
    "execution": {
     "iopub.execute_input": "2022-12-06T17:13:52.607467Z",
     "iopub.status.busy": "2022-12-06T17:13:52.607042Z",
     "iopub.status.idle": "2022-12-06T17:13:52.617130Z",
     "shell.execute_reply": "2022-12-06T17:13:52.615948Z",
     "shell.execute_reply.started": "2022-12-06T17:13:52.607432Z"
    }
   },
   "outputs": [
    {
     "data": {
      "text/plain": [
       "Yes    56.498909\n",
       "No     43.501091\n",
       "Name: Offer Accepted, dtype: float64"
      ]
     },
     "execution_count": 106,
     "metadata": {},
     "output_type": "execute_result"
    }
   ],
   "source": [
    "train_data['Offer Accepted'].value_counts(1)*100"
   ]
  },
  {
   "cell_type": "code",
   "execution_count": 107,
   "metadata": {
    "execution": {
     "iopub.execute_input": "2022-12-06T16:38:42.085453Z",
     "iopub.status.busy": "2022-12-06T16:38:42.084479Z",
     "iopub.status.idle": "2022-12-06T16:38:42.397977Z",
     "shell.execute_reply": "2022-12-06T16:38:42.397062Z",
     "shell.execute_reply.started": "2022-12-06T16:38:42.085401Z"
    }
   },
   "outputs": [
    {
     "data": {
      "image/png": "[encoded data removed]",
      "text/plain": [
       "<Figure size 432x576 with 1 Axes>"
      ]
     },
     "metadata": {
      "needs_background": "light"
     },
     "output_type": "display_data"
    }
   ],
   "source": [
    "f, ax = plt.subplots(figsize=(6, 8))\n",
    "ax = sns.countplot(x=\"income_range\", data= train_data, palette=\"Set2\")\n",
    "ax.set_xticklabels(ax.get_xticklabels(), rotation=40, ha=\"right\")\n",
    "plt.tight_layout()\n",
    "plt.show()"
   ]
  },
  {
   "cell_type": "code",
   "execution_count": 108,
   "metadata": {
    "execution": {
     "iopub.execute_input": "2022-12-06T16:38:42.400813Z",
     "iopub.status.busy": "2022-12-06T16:38:42.399919Z",
     "iopub.status.idle": "2022-12-06T16:38:42.659404Z",
     "shell.execute_reply": "2022-12-06T16:38:42.658462Z",
     "shell.execute_reply.started": "2022-12-06T16:38:42.400763Z"
    }
   },
   "outputs": [
    {
     "data": {
      "image/png": "[encoded data removed]",
      "text/plain": [
       "<Figure size 432x576 with 1 Axes>"
      ]
     },
     "metadata": {
      "needs_background": "light"
     },
     "output_type": "display_data"
    }
   ],
   "source": [
    "f, ax = plt.subplots(figsize=(6, 8))\n",
    "ax = sns.countplot(x=\"Marital Status\", data= train_data, palette=\"Set2\")\n",
    "ax.set_xticklabels(ax.get_xticklabels(), rotation=40, ha=\"right\")\n",
    "plt.tight_layout()\n",
    "plt.show()"
   ]
  },
  {
   "cell_type": "code",
   "execution_count": 109,
   "metadata": {
    "execution": {
     "iopub.execute_input": "2022-12-06T16:38:42.662102Z",
     "iopub.status.busy": "2022-12-06T16:38:42.661272Z",
     "iopub.status.idle": "2022-12-06T16:38:42.925429Z",
     "shell.execute_reply": "2022-12-06T16:38:42.924416Z",
     "shell.execute_reply.started": "2022-12-06T16:38:42.662053Z"
    }
   },
   "outputs": [
    {
     "data": {
      "image/png": "[encoded data removed]",
      "text/plain": [
       "<Figure size 432x576 with 1 Axes>"
      ]
     },
     "metadata": {
      "needs_background": "light"
     },
     "output_type": "display_data"
    }
   ],
   "source": [
    "f, ax = plt.subplots(figsize=(6, 8))\n",
    "ax = sns.countplot(x=\"age\", data= train_data, palette=\"Set2\")\n",
    "ax.set_xticklabels(ax.get_xticklabels(), rotation=40, ha=\"right\")\n",
    "plt.tight_layout()\n",
    "plt.show()"
   ]
  },
  {
   "cell_type": "code",
   "execution_count": 110,
   "metadata": {
    "execution": {
     "iopub.execute_input": "2022-12-06T16:38:42.927777Z",
     "iopub.status.busy": "2022-12-06T16:38:42.927313Z",
     "iopub.status.idle": "2022-12-06T16:38:43.198423Z",
     "shell.execute_reply": "2022-12-06T16:38:43.197215Z",
     "shell.execute_reply.started": "2022-12-06T16:38:42.927732Z"
    }
   },
   "outputs": [
    {
     "data": {
      "image/png": "[encoded data removed]",
      "text/plain": [
       "<Figure size 432x576 with 1 Axes>"
      ]
     },
     "metadata": {
      "needs_background": "light"
     },
     "output_type": "display_data"
    }
   ],
   "source": [
    "f, ax = plt.subplots(figsize=(6, 8))\n",
    "ax = sns.countplot(x=\"gender\", data= train_data, palette=\"Set2\")\n",
    "ax.set_xticklabels(ax.get_xticklabels(), rotation=40, ha=\"right\")\n",
    "plt.tight_layout()\n",
    "plt.show()"
   ]
  },
  {
   "cell_type": "code",
   "execution_count": 111,
   "metadata": {
    "execution": {
     "iopub.execute_input": "2022-12-06T16:38:43.202763Z",
     "iopub.status.busy": "2022-12-06T16:38:43.201207Z",
     "iopub.status.idle": "2022-12-06T16:38:43.852124Z",
     "shell.execute_reply": "2022-12-06T16:38:43.849574Z",
     "shell.execute_reply.started": "2022-12-06T16:38:43.202709Z"
    }
   },
   "outputs": [
    {
     "data": {
      "image/png": "[encoded data removed]",
      "text/plain": [
       "<Figure size 720x864 with 1 Axes>"
      ]
     },
     "metadata": {
      "needs_background": "light"
     },
     "output_type": "display_data"
    }
   ],
   "source": [
    "f, ax = plt.subplots(figsize=(10, 12))\n",
    "ax = sns.countplot(x=\"Job/Job Industry\", data= train_data, palette=\"Set2\")\n",
    "ax.set_xticklabels(ax.get_xticklabels(), rotation=40, ha=\"right\")\n",
    "plt.tight_layout()\n",
    "plt.show()"
   ]
  },
  {
   "cell_type": "markdown",
   "metadata": {},
   "source": [
    "> **Grouping Offer Accepted by Gender**"
   ]
  },
  {
   "cell_type": "code",
   "execution_count": 112,
   "metadata": {
    "execution": {
     "iopub.execute_input": "2022-12-06T16:38:43.859992Z",
     "iopub.status.busy": "2022-12-06T16:38:43.859595Z",
     "iopub.status.idle": "2022-12-06T16:38:43.877584Z",
     "shell.execute_reply": "2022-12-06T16:38:43.876392Z",
     "shell.execute_reply.started": "2022-12-06T16:38:43.859959Z"
    }
   },
   "outputs": [
    {
     "data": {
      "text/html": [
       "<div>\n",
       "<style scoped>\n",
       "    .dataframe tbody tr th:only-of-type {\n",
       "        vertical-align: middle;\n",
       "    }\n",
       "\n",
       "    .dataframe tbody tr th {\n",
       "        vertical-align: top;\n",
       "    }\n",
       "\n",
       "    .dataframe thead th {\n",
       "        text-align: right;\n",
       "    }\n",
       "</style>\n",
       "<table border=\"1\" class=\"dataframe\">\n",
       "  <thead>\n",
       "    <tr style=\"text-align: right;\">\n",
       "      <th></th>\n",
       "      <th></th>\n",
       "      <th>0</th>\n",
       "    </tr>\n",
       "    <tr>\n",
       "      <th>gender</th>\n",
       "      <th>Offer Accepted</th>\n",
       "      <th></th>\n",
       "    </tr>\n",
       "  </thead>\n",
       "  <tbody>\n",
       "    <tr>\n",
       "      <th rowspan=\"2\" valign=\"top\">Female</th>\n",
       "      <th>No</th>\n",
       "      <td>2843</td>\n",
       "    </tr>\n",
       "    <tr>\n",
       "      <th>Yes</th>\n",
       "      <td>3492</td>\n",
       "    </tr>\n",
       "    <tr>\n",
       "      <th rowspan=\"2\" valign=\"top\">Male</th>\n",
       "      <th>No</th>\n",
       "      <td>2542</td>\n",
       "    </tr>\n",
       "    <tr>\n",
       "      <th>Yes</th>\n",
       "      <td>3502</td>\n",
       "    </tr>\n",
       "  </tbody>\n",
       "</table>\n",
       "</div>"
      ],
      "text/plain": [
       "                          0\n",
       "gender Offer Accepted      \n",
       "Female No              2843\n",
       "       Yes             3492\n",
       "Male   No              2542\n",
       "       Yes             3502"
      ]
     },
     "execution_count": 112,
     "metadata": {},
     "output_type": "execute_result"
    }
   ],
   "source": [
    "offer_by_gender = train_data.groupby(['gender','Offer Accepted']).size()\n",
    "offer_by_gender = pd.DataFrame(offer_by_gender)\n",
    "offer_by_gender"
   ]
  },
  {
   "cell_type": "code",
   "execution_count": 113,
   "metadata": {
    "execution": {
     "iopub.execute_input": "2022-12-06T16:38:43.879520Z",
     "iopub.status.busy": "2022-12-06T16:38:43.879049Z",
     "iopub.status.idle": "2022-12-06T16:38:43.895327Z",
     "shell.execute_reply": "2022-12-06T16:38:43.892719Z",
     "shell.execute_reply.started": "2022-12-06T16:38:43.879475Z"
    }
   },
   "outputs": [
    {
     "name": "stdout",
     "output_type": "stream",
     "text": [
      "Number of Females who accept offer:\n"
     ]
    },
    {
     "data": {
      "text/plain": [
       "55.1223362273086"
      ]
     },
     "execution_count": 113,
     "metadata": {},
     "output_type": "execute_result"
    }
   ],
   "source": [
    "print(\"Number of Females who accept offer:\")\n",
    "((offer_by_gender.loc['Female'][0][1])/(offer_by_gender.loc['Female'][0][1]+offer_by_gender.loc['Female'][0][0]))*100"
   ]
  },
  {
   "cell_type": "code",
   "execution_count": 114,
   "metadata": {
    "execution": {
     "iopub.execute_input": "2022-12-06T16:38:43.897608Z",
     "iopub.status.busy": "2022-12-06T16:38:43.897089Z",
     "iopub.status.idle": "2022-12-06T16:38:43.911432Z",
     "shell.execute_reply": "2022-12-06T16:38:43.910012Z",
     "shell.execute_reply.started": "2022-12-06T16:38:43.897560Z"
    }
   },
   "outputs": [
    {
     "name": "stdout",
     "output_type": "stream",
     "text": [
      "Number of Males who accept offer:\n"
     ]
    },
    {
     "data": {
      "text/plain": [
       "57.94176042356055"
      ]
     },
     "execution_count": 114,
     "metadata": {},
     "output_type": "execute_result"
    }
   ],
   "source": [
    "print(\"Number of Males who accept offer:\")\n",
    "((offer_by_gender.loc['Male'][0][1])/(offer_by_gender.loc['Male'][0][1]+offer_by_gender.loc['Male'][0][0]))*100"
   ]
  },
  {
   "cell_type": "code",
   "execution_count": 115,
   "metadata": {
    "execution": {
     "iopub.execute_input": "2022-12-06T16:38:43.913254Z",
     "iopub.status.busy": "2022-12-06T16:38:43.912752Z",
     "iopub.status.idle": "2022-12-06T16:38:44.107952Z",
     "shell.execute_reply": "2022-12-06T16:38:44.107049Z",
     "shell.execute_reply.started": "2022-12-06T16:38:43.913195Z"
    }
   },
   "outputs": [
    {
     "data": {
      "image/png": "[encoded data removed]",
      "text/plain": [
       "<Figure size 432x576 with 1 Axes>"
      ]
     },
     "metadata": {
      "needs_background": "light"
     },
     "output_type": "display_data"
    }
   ],
   "source": [
    "fig = plt.figure(figsize = (6, 8))\n",
    "plt.bar(['Females','Males'],[55.12,57.94], color = ['maroon','green'])\n",
    "plt.xlabel(\"Gender\")\n",
    "plt.ylabel(\"%age\")\n",
    "plt.title(\"%age of gender who accept offer\")\n",
    "plt.show()"
   ]
  },
  {
   "cell_type": "markdown",
   "metadata": {},
   "source": [
    "> **Grouping by Income Range**"
   ]
  },
  {
   "cell_type": "code",
   "execution_count": 116,
   "metadata": {
    "execution": {
     "iopub.execute_input": "2022-12-06T16:38:44.109527Z",
     "iopub.status.busy": "2022-12-06T16:38:44.109003Z",
     "iopub.status.idle": "2022-12-06T16:38:44.119558Z",
     "shell.execute_reply": "2022-12-06T16:38:44.117859Z",
     "shell.execute_reply.started": "2022-12-06T16:38:44.109492Z"
    }
   },
   "outputs": [],
   "source": [
    "offer_by_income = train_data.groupby(['income_range','Offer Accepted']).size()\n",
    "offer_by_income = pd.DataFrame(offer_by_income)"
   ]
  },
  {
   "cell_type": "code",
   "execution_count": 117,
   "metadata": {
    "execution": {
     "iopub.execute_input": "2022-12-06T16:38:44.120944Z",
     "iopub.status.busy": "2022-12-06T16:38:44.120582Z",
     "iopub.status.idle": "2022-12-06T16:38:44.133646Z",
     "shell.execute_reply": "2022-12-06T16:38:44.132015Z",
     "shell.execute_reply.started": "2022-12-06T16:38:44.120911Z"
    }
   },
   "outputs": [],
   "source": [
    "perc_accepted_income = []\n",
    "for i in range(1,18,2):\n",
    "    perc_accepted_income.append(((offer_by_income[0][i])/(offer_by_income[0][i]+offer_by_income[0][i-1]))*100)"
   ]
  },
  {
   "cell_type": "code",
   "execution_count": 118,
   "metadata": {
    "execution": {
     "iopub.execute_input": "2022-12-06T16:38:44.135790Z",
     "iopub.status.busy": "2022-12-06T16:38:44.135336Z",
     "iopub.status.idle": "2022-12-06T16:38:44.411757Z",
     "shell.execute_reply": "2022-12-06T16:38:44.410353Z",
     "shell.execute_reply.started": "2022-12-06T16:38:44.135755Z"
    }
   },
   "outputs": [
    {
     "data": {
      "image/png": "[encoded data removed]",
      "text/plain": [
       "<Figure size 432x576 with 1 Axes>"
      ]
     },
     "metadata": {
      "needs_background": "light"
     },
     "output_type": "display_data"
    }
   ],
   "source": [
    "fig = plt.figure(figsize = (6, 8))\n",
    "plt.bar(sorted(train_data['income_range'].unique()),perc_accepted_income)\n",
    "plt.xlabel(\"Income range\")\n",
    "plt.ylabel(\"%age\")\n",
    "plt.title(\"%age of income level who accept offer\")\n",
    "plt.xticks(rotation=40)\n",
    "plt.show()"
   ]
  },
  {
   "cell_type": "code",
   "execution_count": 119,
   "metadata": {
    "execution": {
     "iopub.execute_input": "2022-12-06T16:38:44.413780Z",
     "iopub.status.busy": "2022-12-06T16:38:44.413308Z",
     "iopub.status.idle": "2022-12-06T16:38:44.422618Z",
     "shell.execute_reply": "2022-12-06T16:38:44.421231Z",
     "shell.execute_reply.started": "2022-12-06T16:38:44.413746Z"
    }
   },
   "outputs": [
    {
     "name": "stdout",
     "output_type": "stream",
     "text": [
      "Less than ₹12500  : 57.905138339920946\n",
      "₹100000 or More  : 57.73739742086753\n",
      "₹12500 - ₹24999  : 57.20022948938611\n",
      "₹25000 - ₹37499  : 57.3134328358209\n",
      "₹37500 - ₹49999  : 56.7351598173516\n",
      "₹50000 - ₹62499  : 57.69944341372912\n",
      "₹62500 - ₹74999  : 53.196622436670694\n",
      "₹75000 - ₹87499  : 51.445783132530124\n",
      "₹87500 - ₹99999  : 54.43181818181818\n"
     ]
    }
   ],
   "source": [
    "ll = sorted(train_data['income_range'].unique())\n",
    "for i in range(9):\n",
    "    print(ll[i], \" :\",perc_accepted_income[i])"
   ]
  },
  {
   "cell_type": "markdown",
   "metadata": {},
   "source": [
    "> **grouping by Marital Status**"
   ]
  },
  {
   "cell_type": "code",
   "execution_count": 120,
   "metadata": {
    "execution": {
     "iopub.execute_input": "2022-12-06T16:38:44.425600Z",
     "iopub.status.busy": "2022-12-06T16:38:44.424684Z",
     "iopub.status.idle": "2022-12-06T16:38:44.439880Z",
     "shell.execute_reply": "2022-12-06T16:38:44.438678Z",
     "shell.execute_reply.started": "2022-12-06T16:38:44.425550Z"
    }
   },
   "outputs": [],
   "source": [
    "offer_by_marriage = train_data.groupby(['Marital Status','Offer Accepted']).size()\n",
    "offer_by_marriage = pd.DataFrame(offer_by_marriage)"
   ]
  },
  {
   "cell_type": "code",
   "execution_count": 121,
   "metadata": {
    "execution": {
     "iopub.execute_input": "2022-12-06T16:38:44.442234Z",
     "iopub.status.busy": "2022-12-06T16:38:44.441177Z",
     "iopub.status.idle": "2022-12-06T16:38:44.449239Z",
     "shell.execute_reply": "2022-12-06T16:38:44.447838Z",
     "shell.execute_reply.started": "2022-12-06T16:38:44.442188Z"
    }
   },
   "outputs": [],
   "source": [
    "perc_accepted_marriage = []\n",
    "for i in range(1,10,2):\n",
    "    perc_accepted_marriage.append(((offer_by_marriage[0][i])/(offer_by_marriage[0][i]+offer_by_marriage[0][i-1]))*100)"
   ]
  },
  {
   "cell_type": "code",
   "execution_count": 122,
   "metadata": {
    "execution": {
     "iopub.execute_input": "2022-12-06T16:38:44.451800Z",
     "iopub.status.busy": "2022-12-06T16:38:44.451225Z",
     "iopub.status.idle": "2022-12-06T16:38:44.678131Z",
     "shell.execute_reply": "2022-12-06T16:38:44.677285Z",
     "shell.execute_reply.started": "2022-12-06T16:38:44.451717Z"
    }
   },
   "outputs": [
    {
     "data": {
      "image/png": "[encoded data removed]",
      "text/plain": [
       "<Figure size 432x576 with 1 Axes>"
      ]
     },
     "metadata": {
      "needs_background": "light"
     },
     "output_type": "display_data"
    }
   ],
   "source": [
    "fig = plt.figure(figsize = (6, 8))\n",
    "plt.bar(sorted(train_data['Marital Status'].unique()),perc_accepted_marriage, color = 'teal')\n",
    "plt.xlabel(\"Marital Status\")\n",
    "plt.ylabel(\"%age\")\n",
    "plt.title(\"%age of Marital Status who accept offer\")\n",
    "plt.xticks(rotation=40)\n",
    "plt.show()"
   ]
  },
  {
   "cell_type": "markdown",
   "metadata": {},
   "source": [
    "> **Grouping by Job**"
   ]
  },
  {
   "cell_type": "code",
   "execution_count": 123,
   "metadata": {
    "execution": {
     "iopub.execute_input": "2022-12-06T16:38:44.680337Z",
     "iopub.status.busy": "2022-12-06T16:38:44.679294Z",
     "iopub.status.idle": "2022-12-06T16:38:44.690008Z",
     "shell.execute_reply": "2022-12-06T16:38:44.688939Z",
     "shell.execute_reply.started": "2022-12-06T16:38:44.680299Z"
    }
   },
   "outputs": [],
   "source": [
    "offer_by_job = train_data.groupby(['Job/Job Industry','Offer Accepted']).size()\n",
    "offer_by_job = pd.DataFrame(offer_by_job)"
   ]
  },
  {
   "cell_type": "code",
   "execution_count": 124,
   "metadata": {
    "execution": {
     "iopub.execute_input": "2022-12-06T16:38:44.692493Z",
     "iopub.status.busy": "2022-12-06T16:38:44.691752Z",
     "iopub.status.idle": "2022-12-06T16:38:44.700605Z",
     "shell.execute_reply": "2022-12-06T16:38:44.699407Z",
     "shell.execute_reply.started": "2022-12-06T16:38:44.692443Z"
    }
   },
   "outputs": [],
   "source": [
    "perc_accepted_job = []\n",
    "for i in range(1,48,2):\n",
    "    perc_accepted_job.append(((offer_by_job[0][i])/(offer_by_job[0][i]+offer_by_job[0][i-1]))*100)"
   ]
  },
  {
   "cell_type": "code",
   "execution_count": 125,
   "metadata": {
    "execution": {
     "iopub.execute_input": "2022-12-06T16:38:44.702630Z",
     "iopub.status.busy": "2022-12-06T16:38:44.701907Z",
     "iopub.status.idle": "2022-12-06T16:38:44.718323Z",
     "shell.execute_reply": "2022-12-06T16:38:44.716937Z",
     "shell.execute_reply.started": "2022-12-06T16:38:44.702591Z"
    }
   },
   "outputs": [
    {
     "name": "stdout",
     "output_type": "stream",
     "text": [
      "Architecture & Engineering  : 67.97385620915033\n",
      "Arts Design Entertainment Sports & Media  : 54.643962848297214\n",
      "Building & Grounds Cleaning & Maintenance  : 65.85365853658537\n",
      "Business & Financial  : 58.0246913580247\n",
      "Community & Social Services  : 51.73913043478261\n",
      "Computer & Mathematical  : 54.95958853783982\n",
      "Construction & Extraction  : 58.666666666666664\n",
      "Education&Training&Library  : 51.80084745762712\n",
      "Farming Fishing & Forestry  : 46.875\n",
      "Food Preparation & Serving Related  : 54.092526690391466\n",
      "Healthcare Practitioners & Technical  : 63.82113821138211\n",
      "Healthcare Support  : 66.3677130044843\n",
      "Installation Maintenance & Repair  : 49.28571428571429\n",
      "Legal  : 51.85185185185185\n",
      "Life Physical Social Science  : 56.00000000000001\n",
      "Management  : 58.313539192399055\n",
      "Office & Administrative Support  : 57.84469096671949\n",
      "Personal Care & Service  : 53.333333333333336\n",
      "Production Occupations  : 63.46153846153846\n",
      "Protective Service  : 58.46994535519126\n",
      "Retired  : 46.96969696969697\n",
      "Sales & Related  : 56.55813953488372\n",
      "Student  : 60.986842105263165\n",
      "Transportation & Material Moving  : 56.17021276595745\n"
     ]
    }
   ],
   "source": [
    "job_accept_list = sorted(train_data['Job/Job Industry'].unique())\n",
    "result = zip(job_accept_list,perc_accepted_job)\n",
    "result = dict(result)\n",
    "for i,j in result.items():\n",
    "    print(i,\" :\", j)"
   ]
  },
  {
   "cell_type": "markdown",
   "metadata": {},
   "source": [
    "# **Feature Engineering**"
   ]
  },
  {
   "cell_type": "markdown",
   "metadata": {},
   "source": [
    "**Finding null values**"
   ]
  },
  {
   "cell_type": "code",
   "execution_count": 126,
   "metadata": {
    "execution": {
     "iopub.execute_input": "2022-12-06T16:38:44.721317Z",
     "iopub.status.busy": "2022-12-06T16:38:44.720170Z",
     "iopub.status.idle": "2022-12-06T16:38:44.750041Z",
     "shell.execute_reply": "2022-12-06T16:38:44.748539Z",
     "shell.execute_reply.started": "2022-12-06T16:38:44.721261Z"
    }
   },
   "outputs": [
    {
     "data": {
      "text/plain": [
       "offer expiration                            0\n",
       "income_range                                0\n",
       "no_visited_Cold drinks                    198\n",
       "travelled_more_than_15mins_for_offer        0\n",
       "Restaur_spend_less_than20                 121\n",
       "Marital Status                              0\n",
       "restaurant type                             0\n",
       "age                                         0\n",
       "Prefer western over chinese                 0\n",
       "travelled_more_than_25mins_for_offer        0\n",
       "travelled_more_than_5mins_for_offer         0\n",
       "no_visited_bars                            93\n",
       "gender                                      0\n",
       "car                                     12268\n",
       "restuarant_same_direction_house             0\n",
       "Cooks regularly                             0\n",
       "Customer type                               0\n",
       "Qualification                               0\n",
       "is foodie                                   0\n",
       "no_Take-aways                             144\n",
       "Job/Job Industry                            0\n",
       "restuarant_opposite_direction_house         0\n",
       "has Children                                0\n",
       "visit restaurant with rating (avg)          0\n",
       "temperature                                 0\n",
       "Restaur_spend_greater_than20              160\n",
       "Travel Time                                 0\n",
       "Climate                                     0\n",
       "drop location                               0\n",
       "Prefer home food                            0\n",
       "Offer Accepted                              0\n",
       "dtype: int64"
      ]
     },
     "execution_count": 126,
     "metadata": {},
     "output_type": "execute_result"
    }
   ],
   "source": [
    "train_data.isnull().sum()"
   ]
  },
  {
   "cell_type": "code",
   "execution_count": 127,
   "metadata": {
    "execution": {
     "iopub.execute_input": "2022-12-06T16:38:44.752976Z",
     "iopub.status.busy": "2022-12-06T16:38:44.752215Z",
     "iopub.status.idle": "2022-12-06T16:38:44.768643Z",
     "shell.execute_reply": "2022-12-06T16:38:44.767520Z",
     "shell.execute_reply.started": "2022-12-06T16:38:44.752925Z"
    }
   },
   "outputs": [],
   "source": [
    "train_data = train_data.drop(['car'], axis = 1)\n",
    "test_data = test_data.drop(['car'], axis = 1)"
   ]
  },
  {
   "cell_type": "markdown",
   "metadata": {},
   "source": [
    "**Changing data types from object to int64/float**"
   ]
  },
  {
   "cell_type": "code",
   "execution_count": 128,
   "metadata": {
    "execution": {
     "iopub.execute_input": "2022-12-06T16:38:44.771563Z",
     "iopub.status.busy": "2022-12-06T16:38:44.770473Z",
     "iopub.status.idle": "2022-12-06T16:38:44.788590Z",
     "shell.execute_reply": "2022-12-06T16:38:44.787243Z",
     "shell.execute_reply.started": "2022-12-06T16:38:44.771514Z"
    }
   },
   "outputs": [],
   "source": [
    "offer_expiration_dict = {'10hours':0,'2days': 1}\n",
    "train_data['offer expiration'] = train_data['offer expiration'].map(offer_expiration_dict)\n",
    "test_data['offer expiration'] = test_data['offer expiration'].map(offer_expiration_dict)"
   ]
  },
  {
   "cell_type": "code",
   "execution_count": 129,
   "metadata": {
    "execution": {
     "iopub.execute_input": "2022-12-06T16:38:44.790373Z",
     "iopub.status.busy": "2022-12-06T16:38:44.789963Z",
     "iopub.status.idle": "2022-12-06T16:38:44.809925Z",
     "shell.execute_reply": "2022-12-06T16:38:44.808457Z",
     "shell.execute_reply.started": "2022-12-06T16:38:44.790331Z"
    }
   },
   "outputs": [],
   "source": [
    "income_level_dict = {'₹100000 or More':100000, '₹87500 - ₹99999':93749.5, '₹37500 - ₹49999':43749.5,\n",
    "       'Less than ₹12500':12500, '₹50000 - ₹62499':56249.5, '₹12500 - ₹24999':18749.5,\n",
    "       '₹75000 - ₹87499':81249.5, '₹25000 - ₹37499':31249.5, '₹62500 - ₹74999':68749.5}\n",
    "train_data['income_range'] = train_data['income_range'].map(income_level_dict)\n",
    "test_data['income_range'] = test_data['income_range'].map(income_level_dict)"
   ]
  },
  {
   "cell_type": "code",
   "execution_count": 130,
   "metadata": {
    "execution": {
     "iopub.execute_input": "2022-12-06T16:38:44.812484Z",
     "iopub.status.busy": "2022-12-06T16:38:44.811636Z",
     "iopub.status.idle": "2022-12-06T16:38:44.826156Z",
     "shell.execute_reply": "2022-12-06T16:38:44.824197Z",
     "shell.execute_reply.started": "2022-12-06T16:38:44.812438Z"
    }
   },
   "outputs": [],
   "source": [
    "no_visited_Cold_drinks_dict = {'less1': 0, 'never': 0, '1~3': 2, '4~8': 6, 'gt8': 8}\n",
    "train_data['no_visited_Cold drinks'] = train_data['no_visited_Cold drinks'].map(no_visited_Cold_drinks_dict)\n",
    "test_data['no_visited_Cold drinks'] = test_data['no_visited_Cold drinks'].map(no_visited_Cold_drinks_dict)"
   ]
  },
  {
   "cell_type": "code",
   "execution_count": 131,
   "metadata": {
    "execution": {
     "iopub.execute_input": "2022-12-06T16:38:44.828738Z",
     "iopub.status.busy": "2022-12-06T16:38:44.827854Z",
     "iopub.status.idle": "2022-12-06T16:38:44.853060Z",
     "shell.execute_reply": "2022-12-06T16:38:44.851939Z",
     "shell.execute_reply.started": "2022-12-06T16:38:44.828631Z"
    }
   },
   "outputs": [],
   "source": [
    "Restaur_spend_less_than20_dict = {'less1': 0, 'never': 0, '1~3': 2, '4~8': 6, 'gt8': 8}\n",
    "train_data['Restaur_spend_less_than20'] = train_data['Restaur_spend_less_than20'].map(Restaur_spend_less_than20_dict)\n",
    "test_data['Restaur_spend_less_than20'] = test_data['Restaur_spend_less_than20'].map(Restaur_spend_less_than20_dict)"
   ]
  },
  {
   "cell_type": "code",
   "execution_count": 132,
   "metadata": {
    "execution": {
     "iopub.execute_input": "2022-12-06T16:38:44.859440Z",
     "iopub.status.busy": "2022-12-06T16:38:44.857455Z",
     "iopub.status.idle": "2022-12-06T16:38:44.883506Z",
     "shell.execute_reply": "2022-12-06T16:38:44.882125Z",
     "shell.execute_reply.started": "2022-12-06T16:38:44.859382Z"
    }
   },
   "outputs": [],
   "source": [
    "Marital_Status_dict = dict()\n",
    "for i in train_data['Marital Status'].unique():\n",
    "    Marital_Status_dict[i] = list(train_data['Marital Status'].unique()).index(i)\n",
    "train_data['Marital Status'] = train_data['Marital Status'].map(Marital_Status_dict)\n",
    "test_data['Marital Status'] = test_data['Marital Status'].map(Marital_Status_dict)"
   ]
  },
  {
   "cell_type": "code",
   "execution_count": 133,
   "metadata": {
    "execution": {
     "iopub.execute_input": "2022-12-06T16:38:44.886083Z",
     "iopub.status.busy": "2022-12-06T16:38:44.885325Z",
     "iopub.status.idle": "2022-12-06T16:38:44.899433Z",
     "shell.execute_reply": "2022-12-06T16:38:44.898278Z",
     "shell.execute_reply.started": "2022-12-06T16:38:44.886033Z"
    }
   },
   "outputs": [],
   "source": [
    "age_dict = {'36': 36, '50plus': 50, '26': 26, '46': 46, '21': 21, 'below21': 21, '41': 41, '31': 31}\n",
    "train_data['age'] = train_data['age'].map(age_dict)\n",
    "test_data['age'] = test_data['age'].map(age_dict)"
   ]
  },
  {
   "cell_type": "code",
   "execution_count": 134,
   "metadata": {
    "execution": {
     "iopub.execute_input": "2022-12-06T16:38:44.901820Z",
     "iopub.status.busy": "2022-12-06T16:38:44.901024Z",
     "iopub.status.idle": "2022-12-06T16:38:44.918440Z",
     "shell.execute_reply": "2022-12-06T16:38:44.917423Z",
     "shell.execute_reply.started": "2022-12-06T16:38:44.901769Z"
    }
   },
   "outputs": [],
   "source": [
    "no_visited_bars_dict = {'less1': 0, 'never': 0, '1~3': 2, '4~8': 6, 'gt8': 8}\n",
    "train_data['no_visited_bars'] = train_data['no_visited_bars'].map(no_visited_bars_dict)\n",
    "test_data['no_visited_bars'] = test_data['no_visited_bars'].map(no_visited_bars_dict)"
   ]
  },
  {
   "cell_type": "code",
   "execution_count": 135,
   "metadata": {
    "execution": {
     "iopub.execute_input": "2022-12-06T16:38:44.921028Z",
     "iopub.status.busy": "2022-12-06T16:38:44.919986Z",
     "iopub.status.idle": "2022-12-06T16:38:44.934519Z",
     "shell.execute_reply": "2022-12-06T16:38:44.932717Z",
     "shell.execute_reply.started": "2022-12-06T16:38:44.920987Z"
    }
   },
   "outputs": [],
   "source": [
    "gender_dict = {'Male': 0, 'Female': 1}\n",
    "train_data['gender'] = train_data['gender'].map(gender_dict)\n",
    "test_data['gender'] = test_data['gender'].map(gender_dict)"
   ]
  },
  {
   "cell_type": "code",
   "execution_count": 136,
   "metadata": {
    "execution": {
     "iopub.execute_input": "2022-12-06T16:38:44.937484Z",
     "iopub.status.busy": "2022-12-06T16:38:44.936650Z",
     "iopub.status.idle": "2022-12-06T16:38:44.957989Z",
     "shell.execute_reply": "2022-12-06T16:38:44.957029Z",
     "shell.execute_reply.started": "2022-12-06T16:38:44.937419Z"
    }
   },
   "outputs": [],
   "source": [
    "customer_type_dict = dict()\n",
    "for i in train_data['Customer type'].unique():\n",
    "    customer_type_dict[i] = list(train_data['Customer type'].unique()).index(i)\n",
    "train_data['Customer type'] = train_data['Customer type'].map(customer_type_dict)\n",
    "test_data['Customer type'] = test_data['Customer type'].map(customer_type_dict)"
   ]
  },
  {
   "cell_type": "code",
   "execution_count": 137,
   "metadata": {
    "execution": {
     "iopub.execute_input": "2022-12-06T16:38:44.960348Z",
     "iopub.status.busy": "2022-12-06T16:38:44.959560Z",
     "iopub.status.idle": "2022-12-06T16:38:44.983831Z",
     "shell.execute_reply": "2022-12-06T16:38:44.982476Z",
     "shell.execute_reply.started": "2022-12-06T16:38:44.960297Z"
    }
   },
   "outputs": [],
   "source": [
    "qualification_dict = dict()\n",
    "for i in train_data['Qualification'].unique():\n",
    "    qualification_dict[i] = list(train_data['Qualification'].unique()).index(i)\n",
    "train_data['Qualification'] = train_data['Qualification'].map(qualification_dict)\n",
    "test_data['Qualification'] = test_data['Qualification'].map(qualification_dict)"
   ]
  },
  {
   "cell_type": "code",
   "execution_count": 138,
   "metadata": {
    "execution": {
     "iopub.execute_input": "2022-12-06T16:38:44.986532Z",
     "iopub.status.busy": "2022-12-06T16:38:44.985537Z",
     "iopub.status.idle": "2022-12-06T16:38:45.008087Z",
     "shell.execute_reply": "2022-12-06T16:38:45.006795Z",
     "shell.execute_reply.started": "2022-12-06T16:38:44.986480Z"
    }
   },
   "outputs": [],
   "source": [
    "restaurant_type_dict = dict()\n",
    "for i in train_data['restaurant type'].unique():\n",
    "    restaurant_type_dict[i] = list(train_data['restaurant type'].unique()).index(i)\n",
    "train_data['restaurant type'] = train_data['restaurant type'].map(restaurant_type_dict)\n",
    "test_data['restaurant type'] = test_data['restaurant type'].map(restaurant_type_dict)"
   ]
  },
  {
   "cell_type": "code",
   "execution_count": 139,
   "metadata": {
    "execution": {
     "iopub.execute_input": "2022-12-06T16:38:45.019540Z",
     "iopub.status.busy": "2022-12-06T16:38:45.018770Z",
     "iopub.status.idle": "2022-12-06T16:38:45.062711Z",
     "shell.execute_reply": "2022-12-06T16:38:45.061478Z",
     "shell.execute_reply.started": "2022-12-06T16:38:45.019485Z"
    }
   },
   "outputs": [],
   "source": [
    "job_dict = dict()\n",
    "for i in train_data['Job/Job Industry'].unique():\n",
    "    job_dict[i] = list(train_data['Job/Job Industry'].unique()).index(i)\n",
    "train_data['Job/Job Industry'] = train_data['Job/Job Industry'].map(job_dict)\n",
    "test_data['Job/Job Industry'] = test_data['Job/Job Industry'].map(job_dict)"
   ]
  },
  {
   "cell_type": "code",
   "execution_count": 140,
   "metadata": {
    "execution": {
     "iopub.execute_input": "2022-12-06T16:38:45.065251Z",
     "iopub.status.busy": "2022-12-06T16:38:45.064456Z",
     "iopub.status.idle": "2022-12-06T16:38:45.077983Z",
     "shell.execute_reply": "2022-12-06T16:38:45.076465Z",
     "shell.execute_reply.started": "2022-12-06T16:38:45.065191Z"
    }
   },
   "outputs": [],
   "source": [
    "Restaur_spend_greater_than20_dict = {'less1': 0, 'never': 0, '1~3': 2, '4~8': 6, 'gt8': 8}\n",
    "train_data['Restaur_spend_greater_than20'] = train_data['Restaur_spend_greater_than20'].map(Restaur_spend_greater_than20_dict)\n",
    "test_data['Restaur_spend_greater_than20'] = test_data['Restaur_spend_greater_than20'].map(Restaur_spend_greater_than20_dict)"
   ]
  },
  {
   "cell_type": "code",
   "execution_count": 141,
   "metadata": {
    "execution": {
     "iopub.execute_input": "2022-12-06T16:38:45.082391Z",
     "iopub.status.busy": "2022-12-06T16:38:45.081269Z",
     "iopub.status.idle": "2022-12-06T16:38:45.094639Z",
     "shell.execute_reply": "2022-12-06T16:38:45.092932Z",
     "shell.execute_reply.started": "2022-12-06T16:38:45.082336Z"
    }
   },
   "outputs": [],
   "source": [
    "offer_dict = {'No': 0, 'Yes': 1}\n",
    "train_data['Offer Accepted'] = train_data['Offer Accepted'].map(offer_dict)"
   ]
  },
  {
   "cell_type": "code",
   "execution_count": 142,
   "metadata": {
    "execution": {
     "iopub.execute_input": "2022-12-06T16:38:45.098617Z",
     "iopub.status.busy": "2022-12-06T16:38:45.097399Z",
     "iopub.status.idle": "2022-12-06T16:38:45.115732Z",
     "shell.execute_reply": "2022-12-06T16:38:45.114238Z",
     "shell.execute_reply.started": "2022-12-06T16:38:45.098561Z"
    }
   },
   "outputs": [],
   "source": [
    "climate_dict = {'Summer':0, 'Spring':1, 'Winter': 2}\n",
    "train_data['Climate'] = train_data['Climate'].map(climate_dict)\n",
    "test_data['Climate'] = test_data['Climate'].map(climate_dict)"
   ]
  },
  {
   "cell_type": "code",
   "execution_count": 143,
   "metadata": {
    "execution": {
     "iopub.execute_input": "2022-12-06T16:38:45.118475Z",
     "iopub.status.busy": "2022-12-06T16:38:45.117555Z",
     "iopub.status.idle": "2022-12-06T16:38:45.133035Z",
     "shell.execute_reply": "2022-12-06T16:38:45.131213Z",
     "shell.execute_reply.started": "2022-12-06T16:38:45.118423Z"
    }
   },
   "outputs": [],
   "source": [
    "location_dict = {'Location A':0, 'Location B':1, 'Location C': 2}\n",
    "train_data['drop location'] = train_data['drop location'].map(location_dict)\n",
    "test_data['drop location'] = test_data['drop location'].map(location_dict)"
   ]
  },
  {
   "cell_type": "code",
   "execution_count": 144,
   "metadata": {
    "execution": {
     "iopub.execute_input": "2022-12-06T16:38:45.137174Z",
     "iopub.status.busy": "2022-12-06T16:38:45.135073Z",
     "iopub.status.idle": "2022-12-06T16:38:45.152238Z",
     "shell.execute_reply": "2022-12-06T16:38:45.150452Z",
     "shell.execute_reply.started": "2022-12-06T16:38:45.137083Z"
    }
   },
   "outputs": [],
   "source": [
    "takeaway_dict = {'less1': 0, 'never': 0, '1~3': 2, '4~8': 6, 'gt8': 8}\n",
    "train_data['no_Take-aways'] = train_data['no_Take-aways'].map(takeaway_dict)\n",
    "test_data['no_Take-aways'] = test_data['no_Take-aways'].map(takeaway_dict)"
   ]
  },
  {
   "cell_type": "code",
   "execution_count": 145,
   "metadata": {
    "execution": {
     "iopub.execute_input": "2022-12-06T16:38:45.155264Z",
     "iopub.status.busy": "2022-12-06T16:38:45.153850Z",
     "iopub.status.idle": "2022-12-06T16:38:45.184915Z",
     "shell.execute_reply": "2022-12-06T16:38:45.183512Z",
     "shell.execute_reply.started": "2022-12-06T16:38:45.155203Z"
    }
   },
   "outputs": [
    {
     "name": "stdout",
     "output_type": "stream",
     "text": [
      "<class 'pandas.core.frame.DataFrame'>\n",
      "RangeIndex: 12379 entries, 0 to 12378\n",
      "Data columns (total 30 columns):\n",
      " #   Column                                Non-Null Count  Dtype  \n",
      "---  ------                                --------------  -----  \n",
      " 0   offer expiration                      12379 non-null  int64  \n",
      " 1   income_range                          12379 non-null  float64\n",
      " 2   no_visited_Cold drinks                12181 non-null  float64\n",
      " 3   travelled_more_than_15mins_for_offer  12379 non-null  int64  \n",
      " 4   Restaur_spend_less_than20             12258 non-null  float64\n",
      " 5   Marital Status                        12379 non-null  int64  \n",
      " 6   restaurant type                       12379 non-null  int64  \n",
      " 7   age                                   12379 non-null  int64  \n",
      " 8   Prefer western over chinese           12379 non-null  int64  \n",
      " 9   travelled_more_than_25mins_for_offer  12379 non-null  int64  \n",
      " 10  travelled_more_than_5mins_for_offer   12379 non-null  int64  \n",
      " 11  no_visited_bars                       12286 non-null  float64\n",
      " 12  gender                                12379 non-null  int64  \n",
      " 13  restuarant_same_direction_house       12379 non-null  int64  \n",
      " 14  Cooks regularly                       12379 non-null  int64  \n",
      " 15  Customer type                         12379 non-null  int64  \n",
      " 16  Qualification                         12379 non-null  int64  \n",
      " 17  is foodie                             12379 non-null  int64  \n",
      " 18  no_Take-aways                         12235 non-null  float64\n",
      " 19  Job/Job Industry                      12379 non-null  int64  \n",
      " 20  restuarant_opposite_direction_house   12379 non-null  int64  \n",
      " 21  has Children                          12379 non-null  int64  \n",
      " 22  visit restaurant with rating (avg)    12379 non-null  int64  \n",
      " 23  temperature                           12379 non-null  int64  \n",
      " 24  Restaur_spend_greater_than20          12219 non-null  float64\n",
      " 25  Travel Time                           12379 non-null  int64  \n",
      " 26  Climate                               12379 non-null  int64  \n",
      " 27  drop location                         12379 non-null  int64  \n",
      " 28  Prefer home food                      12379 non-null  int64  \n",
      " 29  Offer Accepted                        12379 non-null  int64  \n",
      "dtypes: float64(6), int64(24)\n",
      "memory usage: 2.8 MB\n"
     ]
    }
   ],
   "source": [
    "train_data.info()"
   ]
  },
  {
   "cell_type": "code",
   "execution_count": 146,
   "metadata": {
    "execution": {
     "iopub.execute_input": "2022-12-06T16:38:45.188204Z",
     "iopub.status.busy": "2022-12-06T16:38:45.186843Z",
     "iopub.status.idle": "2022-12-06T16:38:45.212697Z",
     "shell.execute_reply": "2022-12-06T16:38:45.211222Z",
     "shell.execute_reply.started": "2022-12-06T16:38:45.188129Z"
    }
   },
   "outputs": [
    {
     "name": "stdout",
     "output_type": "stream",
     "text": [
      "<class 'pandas.core.frame.DataFrame'>\n",
      "RangeIndex: 5305 entries, 0 to 5304\n",
      "Data columns (total 29 columns):\n",
      " #   Column                                Non-Null Count  Dtype  \n",
      "---  ------                                --------------  -----  \n",
      " 0   offer expiration                      5305 non-null   int64  \n",
      " 1   income_range                          5305 non-null   float64\n",
      " 2   no_visited_Cold drinks                5215 non-null   float64\n",
      " 3   travelled_more_than_15mins_for_offer  5305 non-null   int64  \n",
      " 4   Restaur_spend_less_than20             5244 non-null   float64\n",
      " 5   Marital Status                        5305 non-null   int64  \n",
      " 6   restaurant type                       5305 non-null   int64  \n",
      " 7   age                                   5305 non-null   int64  \n",
      " 8   Prefer western over chinese           5305 non-null   int64  \n",
      " 9   travelled_more_than_25mins_for_offer  5305 non-null   int64  \n",
      " 10  travelled_more_than_5mins_for_offer   5305 non-null   int64  \n",
      " 11  no_visited_bars                       5255 non-null   float64\n",
      " 12  gender                                5305 non-null   int64  \n",
      " 13  restuarant_same_direction_house       5305 non-null   int64  \n",
      " 14  Cooks regularly                       5305 non-null   int64  \n",
      " 15  Customer type                         5305 non-null   int64  \n",
      " 16  Qualification                         5305 non-null   int64  \n",
      " 17  is foodie                             5305 non-null   int64  \n",
      " 18  no_Take-aways                         5245 non-null   float64\n",
      " 19  Job/Job Industry                      5305 non-null   int64  \n",
      " 20  restuarant_opposite_direction_house   5305 non-null   int64  \n",
      " 21  has Children                          5305 non-null   int64  \n",
      " 22  visit restaurant with rating (avg)    5305 non-null   int64  \n",
      " 23  temperature                           5305 non-null   int64  \n",
      " 24  Restaur_spend_greater_than20          5201 non-null   float64\n",
      " 25  Travel Time                           5305 non-null   int64  \n",
      " 26  Climate                               5305 non-null   int64  \n",
      " 27  drop location                         5305 non-null   int64  \n",
      " 28  Prefer home food                      5305 non-null   int64  \n",
      "dtypes: float64(6), int64(23)\n",
      "memory usage: 1.2 MB\n"
     ]
    }
   ],
   "source": [
    "test_data.info()"
   ]
  },
  {
   "cell_type": "markdown",
   "metadata": {},
   "source": [
    "**All columns are now int64/float dtype**"
   ]
  },
  {
   "cell_type": "markdown",
   "metadata": {},
   "source": [
    "# **Data Preprocessing**"
   ]
  },
  {
   "cell_type": "markdown",
   "metadata": {},
   "source": [
    "**Filling Missing Data**"
   ]
  },
  {
   "cell_type": "code",
   "execution_count": 147,
   "metadata": {
    "execution": {
     "iopub.execute_input": "2022-12-06T16:38:45.214955Z",
     "iopub.status.busy": "2022-12-06T16:38:45.214497Z",
     "iopub.status.idle": "2022-12-06T16:38:45.233893Z",
     "shell.execute_reply": "2022-12-06T16:38:45.232543Z",
     "shell.execute_reply.started": "2022-12-06T16:38:45.214908Z"
    }
   },
   "outputs": [
    {
     "data": {
      "text/plain": [
       "offer expiration                          0\n",
       "income_range                              0\n",
       "no_visited_Cold drinks                  198\n",
       "travelled_more_than_15mins_for_offer      0\n",
       "Restaur_spend_less_than20               121\n",
       "Marital Status                            0\n",
       "restaurant type                           0\n",
       "age                                       0\n",
       "Prefer western over chinese               0\n",
       "travelled_more_than_25mins_for_offer      0\n",
       "travelled_more_than_5mins_for_offer       0\n",
       "no_visited_bars                          93\n",
       "gender                                    0\n",
       "restuarant_same_direction_house           0\n",
       "Cooks regularly                           0\n",
       "Customer type                             0\n",
       "Qualification                             0\n",
       "is foodie                                 0\n",
       "no_Take-aways                           144\n",
       "Job/Job Industry                          0\n",
       "restuarant_opposite_direction_house       0\n",
       "has Children                              0\n",
       "visit restaurant with rating (avg)        0\n",
       "temperature                               0\n",
       "Restaur_spend_greater_than20            160\n",
       "Travel Time                               0\n",
       "Climate                                   0\n",
       "drop location                             0\n",
       "Prefer home food                          0\n",
       "Offer Accepted                            0\n",
       "dtype: int64"
      ]
     },
     "execution_count": 147,
     "metadata": {},
     "output_type": "execute_result"
    }
   ],
   "source": [
    "train_data.isnull().sum()"
   ]
  },
  {
   "cell_type": "code",
   "execution_count": 148,
   "metadata": {
    "execution": {
     "iopub.execute_input": "2022-12-06T16:38:45.236979Z",
     "iopub.status.busy": "2022-12-06T16:38:45.235999Z",
     "iopub.status.idle": "2022-12-06T16:38:45.256033Z",
     "shell.execute_reply": "2022-12-06T16:38:45.254451Z",
     "shell.execute_reply.started": "2022-12-06T16:38:45.236902Z"
    }
   },
   "outputs": [
    {
     "data": {
      "text/plain": [
       "offer expiration                          0\n",
       "income_range                              0\n",
       "no_visited_Cold drinks                   90\n",
       "travelled_more_than_15mins_for_offer      0\n",
       "Restaur_spend_less_than20                61\n",
       "Marital Status                            0\n",
       "restaurant type                           0\n",
       "age                                       0\n",
       "Prefer western over chinese               0\n",
       "travelled_more_than_25mins_for_offer      0\n",
       "travelled_more_than_5mins_for_offer       0\n",
       "no_visited_bars                          50\n",
       "gender                                    0\n",
       "restuarant_same_direction_house           0\n",
       "Cooks regularly                           0\n",
       "Customer type                             0\n",
       "Qualification                             0\n",
       "is foodie                                 0\n",
       "no_Take-aways                            60\n",
       "Job/Job Industry                          0\n",
       "restuarant_opposite_direction_house       0\n",
       "has Children                              0\n",
       "visit restaurant with rating (avg)        0\n",
       "temperature                               0\n",
       "Restaur_spend_greater_than20            104\n",
       "Travel Time                               0\n",
       "Climate                                   0\n",
       "drop location                             0\n",
       "Prefer home food                          0\n",
       "dtype: int64"
      ]
     },
     "execution_count": 148,
     "metadata": {},
     "output_type": "execute_result"
    }
   ],
   "source": [
    "test_data.isnull().sum()"
   ]
  },
  {
   "cell_type": "code",
   "execution_count": 149,
   "metadata": {
    "execution": {
     "iopub.execute_input": "2022-12-06T16:38:45.258608Z",
     "iopub.status.busy": "2022-12-06T16:38:45.258083Z",
     "iopub.status.idle": "2022-12-06T16:38:45.529887Z",
     "shell.execute_reply": "2022-12-06T16:38:45.528625Z",
     "shell.execute_reply.started": "2022-12-06T16:38:45.258567Z"
    }
   },
   "outputs": [],
   "source": [
    "from sklearn.impute import KNNImputer\n",
    "imputer = KNNImputer(n_neighbors = 3)"
   ]
  },
  {
   "cell_type": "code",
   "execution_count": 150,
   "metadata": {
    "execution": {
     "iopub.execute_input": "2022-12-06T16:38:45.532791Z",
     "iopub.status.busy": "2022-12-06T16:38:45.531400Z",
     "iopub.status.idle": "2022-12-06T16:38:46.148093Z",
     "shell.execute_reply": "2022-12-06T16:38:46.146577Z",
     "shell.execute_reply.started": "2022-12-06T16:38:45.532731Z"
    }
   },
   "outputs": [],
   "source": [
    "for i in train_data.columns:\n",
    "    if train_data[i].isnull().sum() != 0:\n",
    "        train_data[i] = imputer.fit_transform(np.array(train_data[i]).reshape(-1,1))"
   ]
  },
  {
   "cell_type": "code",
   "execution_count": 151,
   "metadata": {
    "execution": {
     "iopub.execute_input": "2022-12-06T16:38:46.159750Z",
     "iopub.status.busy": "2022-12-06T16:38:46.155455Z",
     "iopub.status.idle": "2022-12-06T16:38:46.320715Z",
     "shell.execute_reply": "2022-12-06T16:38:46.318472Z",
     "shell.execute_reply.started": "2022-12-06T16:38:46.159660Z"
    }
   },
   "outputs": [],
   "source": [
    "for i in test_data.columns:\n",
    "    if test_data[i].isnull().sum() != 0:\n",
    "        test_data[i] = imputer.fit_transform(np.array(test_data[i]).reshape(-1,1))"
   ]
  },
  {
   "cell_type": "code",
   "execution_count": 152,
   "metadata": {
    "execution": {
     "iopub.execute_input": "2022-12-06T16:38:46.331401Z",
     "iopub.status.busy": "2022-12-06T16:38:46.327108Z",
     "iopub.status.idle": "2022-12-06T16:38:46.361994Z",
     "shell.execute_reply": "2022-12-06T16:38:46.360507Z",
     "shell.execute_reply.started": "2022-12-06T16:38:46.331295Z"
    }
   },
   "outputs": [
    {
     "name": "stdout",
     "output_type": "stream",
     "text": [
      "<class 'pandas.core.frame.DataFrame'>\n",
      "RangeIndex: 12379 entries, 0 to 12378\n",
      "Data columns (total 30 columns):\n",
      " #   Column                                Non-Null Count  Dtype  \n",
      "---  ------                                --------------  -----  \n",
      " 0   offer expiration                      12379 non-null  int64  \n",
      " 1   income_range                          12379 non-null  float64\n",
      " 2   no_visited_Cold drinks                12379 non-null  float64\n",
      " 3   travelled_more_than_15mins_for_offer  12379 non-null  int64  \n",
      " 4   Restaur_spend_less_than20             12379 non-null  float64\n",
      " 5   Marital Status                        12379 non-null  int64  \n",
      " 6   restaurant type                       12379 non-null  int64  \n",
      " 7   age                                   12379 non-null  int64  \n",
      " 8   Prefer western over chinese           12379 non-null  int64  \n",
      " 9   travelled_more_than_25mins_for_offer  12379 non-null  int64  \n",
      " 10  travelled_more_than_5mins_for_offer   12379 non-null  int64  \n",
      " 11  no_visited_bars                       12379 non-null  float64\n",
      " 12  gender                                12379 non-null  int64  \n",
      " 13  restuarant_same_direction_house       12379 non-null  int64  \n",
      " 14  Cooks regularly                       12379 non-null  int64  \n",
      " 15  Customer type                         12379 non-null  int64  \n",
      " 16  Qualification                         12379 non-null  int64  \n",
      " 17  is foodie                             12379 non-null  int64  \n",
      " 18  no_Take-aways                         12379 non-null  float64\n",
      " 19  Job/Job Industry                      12379 non-null  int64  \n",
      " 20  restuarant_opposite_direction_house   12379 non-null  int64  \n",
      " 21  has Children                          12379 non-null  int64  \n",
      " 22  visit restaurant with rating (avg)    12379 non-null  int64  \n",
      " 23  temperature                           12379 non-null  int64  \n",
      " 24  Restaur_spend_greater_than20          12379 non-null  float64\n",
      " 25  Travel Time                           12379 non-null  int64  \n",
      " 26  Climate                               12379 non-null  int64  \n",
      " 27  drop location                         12379 non-null  int64  \n",
      " 28  Prefer home food                      12379 non-null  int64  \n",
      " 29  Offer Accepted                        12379 non-null  int64  \n",
      "dtypes: float64(6), int64(24)\n",
      "memory usage: 2.8 MB\n"
     ]
    }
   ],
   "source": [
    "train_data.info()"
   ]
  },
  {
   "cell_type": "code",
   "execution_count": 153,
   "metadata": {
    "execution": {
     "iopub.execute_input": "2022-12-06T16:38:46.364404Z",
     "iopub.status.busy": "2022-12-06T16:38:46.363684Z",
     "iopub.status.idle": "2022-12-06T16:38:46.385726Z",
     "shell.execute_reply": "2022-12-06T16:38:46.384640Z",
     "shell.execute_reply.started": "2022-12-06T16:38:46.364354Z"
    }
   },
   "outputs": [
    {
     "data": {
      "text/plain": [
       "offer expiration                        0\n",
       "income_range                            0\n",
       "no_visited_Cold drinks                  0\n",
       "travelled_more_than_15mins_for_offer    0\n",
       "Restaur_spend_less_than20               0\n",
       "Marital Status                          0\n",
       "restaurant type                         0\n",
       "age                                     0\n",
       "Prefer western over chinese             0\n",
       "travelled_more_than_25mins_for_offer    0\n",
       "travelled_more_than_5mins_for_offer     0\n",
       "no_visited_bars                         0\n",
       "gender                                  0\n",
       "restuarant_same_direction_house         0\n",
       "Cooks regularly                         0\n",
       "Customer type                           0\n",
       "Qualification                           0\n",
       "is foodie                               0\n",
       "no_Take-aways                           0\n",
       "Job/Job Industry                        0\n",
       "restuarant_opposite_direction_house     0\n",
       "has Children                            0\n",
       "visit restaurant with rating (avg)      0\n",
       "temperature                             0\n",
       "Restaur_spend_greater_than20            0\n",
       "Travel Time                             0\n",
       "Climate                                 0\n",
       "drop location                           0\n",
       "Prefer home food                        0\n",
       "Offer Accepted                          0\n",
       "dtype: int64"
      ]
     },
     "execution_count": 153,
     "metadata": {},
     "output_type": "execute_result"
    }
   ],
   "source": [
    "train_data.isnull().sum()"
   ]
  },
  {
   "cell_type": "code",
   "execution_count": 154,
   "metadata": {
    "execution": {
     "iopub.execute_input": "2022-12-06T16:38:46.392535Z",
     "iopub.status.busy": "2022-12-06T16:38:46.391277Z",
     "iopub.status.idle": "2022-12-06T16:38:46.429794Z",
     "shell.execute_reply": "2022-12-06T16:38:46.428555Z",
     "shell.execute_reply.started": "2022-12-06T16:38:46.392483Z"
    }
   },
   "outputs": [
    {
     "name": "stdout",
     "output_type": "stream",
     "text": [
      "<class 'pandas.core.frame.DataFrame'>\n",
      "RangeIndex: 5305 entries, 0 to 5304\n",
      "Data columns (total 29 columns):\n",
      " #   Column                                Non-Null Count  Dtype  \n",
      "---  ------                                --------------  -----  \n",
      " 0   offer expiration                      5305 non-null   int64  \n",
      " 1   income_range                          5305 non-null   float64\n",
      " 2   no_visited_Cold drinks                5305 non-null   float64\n",
      " 3   travelled_more_than_15mins_for_offer  5305 non-null   int64  \n",
      " 4   Restaur_spend_less_than20             5305 non-null   float64\n",
      " 5   Marital Status                        5305 non-null   int64  \n",
      " 6   restaurant type                       5305 non-null   int64  \n",
      " 7   age                                   5305 non-null   int64  \n",
      " 8   Prefer western over chinese           5305 non-null   int64  \n",
      " 9   travelled_more_than_25mins_for_offer  5305 non-null   int64  \n",
      " 10  travelled_more_than_5mins_for_offer   5305 non-null   int64  \n",
      " 11  no_visited_bars                       5305 non-null   float64\n",
      " 12  gender                                5305 non-null   int64  \n",
      " 13  restuarant_same_direction_house       5305 non-null   int64  \n",
      " 14  Cooks regularly                       5305 non-null   int64  \n",
      " 15  Customer type                         5305 non-null   int64  \n",
      " 16  Qualification                         5305 non-null   int64  \n",
      " 17  is foodie                             5305 non-null   int64  \n",
      " 18  no_Take-aways                         5305 non-null   float64\n",
      " 19  Job/Job Industry                      5305 non-null   int64  \n",
      " 20  restuarant_opposite_direction_house   5305 non-null   int64  \n",
      " 21  has Children                          5305 non-null   int64  \n",
      " 22  visit restaurant with rating (avg)    5305 non-null   int64  \n",
      " 23  temperature                           5305 non-null   int64  \n",
      " 24  Restaur_spend_greater_than20          5305 non-null   float64\n",
      " 25  Travel Time                           5305 non-null   int64  \n",
      " 26  Climate                               5305 non-null   int64  \n",
      " 27  drop location                         5305 non-null   int64  \n",
      " 28  Prefer home food                      5305 non-null   int64  \n",
      "dtypes: float64(6), int64(23)\n",
      "memory usage: 1.2 MB\n"
     ]
    }
   ],
   "source": [
    "test_data.info()"
   ]
  },
  {
   "cell_type": "code",
   "execution_count": 155,
   "metadata": {
    "execution": {
     "iopub.execute_input": "2022-12-06T16:38:46.432438Z",
     "iopub.status.busy": "2022-12-06T16:38:46.431605Z",
     "iopub.status.idle": "2022-12-06T16:38:46.448100Z",
     "shell.execute_reply": "2022-12-06T16:38:46.446546Z",
     "shell.execute_reply.started": "2022-12-06T16:38:46.432376Z"
    }
   },
   "outputs": [
    {
     "data": {
      "text/plain": [
       "offer expiration                        0\n",
       "income_range                            0\n",
       "no_visited_Cold drinks                  0\n",
       "travelled_more_than_15mins_for_offer    0\n",
       "Restaur_spend_less_than20               0\n",
       "Marital Status                          0\n",
       "restaurant type                         0\n",
       "age                                     0\n",
       "Prefer western over chinese             0\n",
       "travelled_more_than_25mins_for_offer    0\n",
       "travelled_more_than_5mins_for_offer     0\n",
       "no_visited_bars                         0\n",
       "gender                                  0\n",
       "restuarant_same_direction_house         0\n",
       "Cooks regularly                         0\n",
       "Customer type                           0\n",
       "Qualification                           0\n",
       "is foodie                               0\n",
       "no_Take-aways                           0\n",
       "Job/Job Industry                        0\n",
       "restuarant_opposite_direction_house     0\n",
       "has Children                            0\n",
       "visit restaurant with rating (avg)      0\n",
       "temperature                             0\n",
       "Restaur_spend_greater_than20            0\n",
       "Travel Time                             0\n",
       "Climate                                 0\n",
       "drop location                           0\n",
       "Prefer home food                        0\n",
       "dtype: int64"
      ]
     },
     "execution_count": 155,
     "metadata": {},
     "output_type": "execute_result"
    }
   ],
   "source": [
    "test_data.isnull().sum()"
   ]
  },
  {
   "cell_type": "markdown",
   "metadata": {},
   "source": [
    "**All columns now have 0 null data points**"
   ]
  },
  {
   "cell_type": "markdown",
   "metadata": {},
   "source": [
    "# **Exploratory Data Analysis 2**"
   ]
  },
  {
   "cell_type": "code",
   "execution_count": 156,
   "metadata": {
    "execution": {
     "iopub.execute_input": "2022-12-06T16:38:46.450640Z",
     "iopub.status.busy": "2022-12-06T16:38:46.450132Z",
     "iopub.status.idle": "2022-12-06T16:38:50.304118Z",
     "shell.execute_reply": "2022-12-06T16:38:50.303240Z",
     "shell.execute_reply.started": "2022-12-06T16:38:46.450593Z"
    }
   },
   "outputs": [
    {
     "data": {
      "image/png": "[encoded data removed]",
      "text/plain": [
       "<Figure size 1152x864 with 2 Axes>"
      ]
     },
     "metadata": {
      "needs_background": "light"
     },
     "output_type": "display_data"
    }
   ],
   "source": [
    "plt.figure(figsize=(16,12))\n",
    "plt.title('Correlation Heatmap')\n",
    "ax = sns.heatmap(train_data.corr(), annot=True, fmt='.2f', linecolor='white')\n",
    "ax.set_xticklabels(ax.get_xticklabels(), rotation=90)\n",
    "ax.set_yticklabels(ax.get_yticklabels(), rotation=0)           \n",
    "plt.show()"
   ]
  },
  {
   "cell_type": "code",
   "execution_count": 157,
   "metadata": {
    "execution": {
     "iopub.execute_input": "2022-12-06T16:38:50.305893Z",
     "iopub.status.busy": "2022-12-06T16:38:50.305379Z",
     "iopub.status.idle": "2022-12-06T16:38:50.329396Z",
     "shell.execute_reply": "2022-12-06T16:38:50.328208Z",
     "shell.execute_reply.started": "2022-12-06T16:38:50.305859Z"
    }
   },
   "outputs": [
    {
     "data": {
      "text/plain": [
       "{'offer expiration': '0.07',\n",
       " 'income_range': '-0.01',\n",
       " 'no_visited_Cold drinks': '0.05',\n",
       " 'travelled_more_than_15mins_for_offer': '-0.07',\n",
       " 'Restaur_spend_less_than20': '0.04',\n",
       " 'Marital Status': '0.02',\n",
       " 'restaurant type': '0.04',\n",
       " 'age': '-0.05',\n",
       " 'Prefer western over chinese': '-0.00',\n",
       " 'travelled_more_than_25mins_for_offer': '-0.08',\n",
       " 'travelled_more_than_5mins_for_offer': 'nan',\n",
       " 'no_visited_bars': '0.05',\n",
       " 'gender': '-0.03',\n",
       " 'restuarant_same_direction_house': '0.01',\n",
       " 'Cooks regularly': '0.00',\n",
       " 'Customer type': '0.07',\n",
       " 'Qualification': '0.01',\n",
       " 'is foodie': '0.01',\n",
       " 'no_Take-aways': '0.02',\n",
       " 'Job/Job Industry': '-0.02',\n",
       " 'restuarant_opposite_direction_house': '-0.02',\n",
       " 'has Children': '-0.04',\n",
       " 'visit restaurant with rating (avg)': '0.01',\n",
       " 'temperature': '0.04',\n",
       " 'Restaur_spend_greater_than20': '0.06',\n",
       " 'Travel Time': '0.01',\n",
       " 'Climate': '-0.03',\n",
       " 'drop location': '-0.06',\n",
       " 'Prefer home food': '0.01',\n",
       " 'Offer Accepted': '1.00'}"
      ]
     },
     "execution_count": 157,
     "metadata": {},
     "output_type": "execute_result"
    }
   ],
   "source": [
    "fields_correl = dict()\n",
    "for i in train_data.columns:\n",
    "    fields_correl[i] = ('%.2f' %train_data[i].corr(train_data['Offer Accepted']))\n",
    "fields_correl"
   ]
  },
  {
   "cell_type": "markdown",
   "metadata": {},
   "source": [
    "# **Data Preprocessing 2**"
   ]
  },
  {
   "cell_type": "markdown",
   "metadata": {},
   "source": [
    "**Separating Features and Label**"
   ]
  },
  {
   "cell_type": "code",
   "execution_count": 158,
   "metadata": {
    "execution": {
     "iopub.execute_input": "2022-12-06T16:38:50.331838Z",
     "iopub.status.busy": "2022-12-06T16:38:50.331494Z",
     "iopub.status.idle": "2022-12-06T16:38:50.342774Z",
     "shell.execute_reply": "2022-12-06T16:38:50.341520Z",
     "shell.execute_reply.started": "2022-12-06T16:38:50.331806Z"
    }
   },
   "outputs": [],
   "source": [
    "y_train = train_data['Offer Accepted']\n",
    "X_train = train_data.drop(['Offer Accepted'], axis = 1) \n",
    "X_test = test_data"
   ]
  },
  {
   "cell_type": "markdown",
   "metadata": {},
   "source": [
    "**Scaling data using Standard Scaler**"
   ]
  },
  {
   "cell_type": "code",
   "execution_count": 159,
   "metadata": {
    "execution": {
     "iopub.execute_input": "2022-12-06T16:38:50.344898Z",
     "iopub.status.busy": "2022-12-06T16:38:50.344454Z",
     "iopub.status.idle": "2022-12-06T16:38:50.353335Z",
     "shell.execute_reply": "2022-12-06T16:38:50.351935Z",
     "shell.execute_reply.started": "2022-12-06T16:38:50.344830Z"
    }
   },
   "outputs": [],
   "source": [
    "from sklearn.preprocessing import StandardScaler"
   ]
  },
  {
   "cell_type": "code",
   "execution_count": 160,
   "metadata": {
    "execution": {
     "iopub.execute_input": "2022-12-06T16:38:50.356586Z",
     "iopub.status.busy": "2022-12-06T16:38:50.355182Z",
     "iopub.status.idle": "2022-12-06T16:38:50.382197Z",
     "shell.execute_reply": "2022-12-06T16:38:50.380636Z",
     "shell.execute_reply.started": "2022-12-06T16:38:50.356533Z"
    }
   },
   "outputs": [],
   "source": [
    "scaler = StandardScaler()\n",
    "X_train = scaler.fit_transform(X_train)\n",
    "X_test = scaler.fit_transform(X_test)"
   ]
  },
  {
   "cell_type": "markdown",
   "metadata": {},
   "source": [
    "**All columns have mean = 0 and std dev = 1**"
   ]
  },
  {
   "cell_type": "markdown",
   "metadata": {},
   "source": [
    "# **Fitting Models**"
   ]
  },
  {
   "cell_type": "markdown",
   "metadata": {},
   "source": [
    "**Logistic Regression**"
   ]
  },
  {
   "cell_type": "code",
   "execution_count": 161,
   "metadata": {
    "execution": {
     "iopub.execute_input": "2022-12-06T16:38:50.384441Z",
     "iopub.status.busy": "2022-12-06T16:38:50.383924Z",
     "iopub.status.idle": "2022-12-06T16:38:50.609696Z",
     "shell.execute_reply": "2022-12-06T16:38:50.608050Z",
     "shell.execute_reply.started": "2022-12-06T16:38:50.384392Z"
    }
   },
   "outputs": [
    {
     "data": {
      "text/plain": [
       "\"from sklearn.linear_model import LogisticRegression\\nnp.random.seed(42)\\nlrclf = LogisticRegression(solver = 'sag', C = 0.01)\\nlrclf.fit(X_train,y_train)\\nlrclf.score(X_train,y_train)\""
      ]
     },
     "execution_count": 161,
     "metadata": {},
     "output_type": "execute_result"
    }
   ],
   "source": [
    "'''from sklearn.linear_model import LogisticRegression\n",
    "np.random.seed(42)\n",
    "lrclf = LogisticRegression(solver = 'sag', C = 0.01)\n",
    "lrclf.fit(X_train,y_train)\n",
    "lrclf.score(X_train,y_train)'''"
   ]
  },
  {
   "cell_type": "code",
   "execution_count": 162,
   "metadata": {
    "execution": {
     "iopub.execute_input": "2022-12-06T16:38:50.613006Z",
     "iopub.status.busy": "2022-12-06T16:38:50.612175Z",
     "iopub.status.idle": "2022-12-06T16:38:50.623393Z",
     "shell.execute_reply": "2022-12-06T16:38:50.621620Z",
     "shell.execute_reply.started": "2022-12-06T16:38:50.612937Z"
    }
   },
   "outputs": [
    {
     "data": {
      "text/plain": [
       "'lr_pred = lrclf.predict(X_test)'"
      ]
     },
     "execution_count": 162,
     "metadata": {},
     "output_type": "execute_result"
    }
   ],
   "source": [
    "'''lr_pred = lrclf.predict(X_test)'''"
   ]
  },
  {
   "cell_type": "markdown",
   "metadata": {},
   "source": [
    "> Logistic Regression CV"
   ]
  },
  {
   "cell_type": "code",
   "execution_count": 163,
   "metadata": {
    "execution": {
     "iopub.execute_input": "2022-12-06T16:38:50.627204Z",
     "iopub.status.busy": "2022-12-06T16:38:50.626568Z",
     "iopub.status.idle": "2022-12-06T16:38:50.638611Z",
     "shell.execute_reply": "2022-12-06T16:38:50.637204Z",
     "shell.execute_reply.started": "2022-12-06T16:38:50.627128Z"
    }
   },
   "outputs": [
    {
     "data": {
      "text/plain": [
       "'from sklearn.model_selection import RandomizedSearchCV'"
      ]
     },
     "execution_count": 163,
     "metadata": {},
     "output_type": "execute_result"
    }
   ],
   "source": [
    "'''from sklearn.model_selection import RandomizedSearchCV'''"
   ]
  },
  {
   "cell_type": "code",
   "execution_count": 164,
   "metadata": {
    "execution": {
     "iopub.execute_input": "2022-12-06T16:38:50.641185Z",
     "iopub.status.busy": "2022-12-06T16:38:50.640501Z",
     "iopub.status.idle": "2022-12-06T16:38:50.657654Z",
     "shell.execute_reply": "2022-12-06T16:38:50.655918Z",
     "shell.execute_reply.started": "2022-12-06T16:38:50.641102Z"
    }
   },
   "outputs": [
    {
     "data": {
      "text/plain": [
       "\"lgparam = {'C': [0.001,0.01,0.1,1,10,100,1000],\\n          'solver':['newton-cg', 'lbfgs', 'liblinear', 'sag', 'saga']}\""
      ]
     },
     "execution_count": 164,
     "metadata": {},
     "output_type": "execute_result"
    }
   ],
   "source": [
    "'''lgparam = {'C': [0.001,0.01,0.1,1,10,100,1000],\n",
    "          'solver':['newton-cg', 'lbfgs', 'liblinear', 'sag', 'saga']}'''"
   ]
  },
  {
   "cell_type": "code",
   "execution_count": 165,
   "metadata": {
    "execution": {
     "iopub.execute_input": "2022-12-06T16:38:50.660308Z",
     "iopub.status.busy": "2022-12-06T16:38:50.659512Z",
     "iopub.status.idle": "2022-12-06T16:38:58.233020Z",
     "shell.execute_reply": "2022-12-06T16:38:58.231457Z",
     "shell.execute_reply.started": "2022-12-06T16:38:50.660245Z"
    }
   },
   "outputs": [
    {
     "data": {
      "text/plain": [
       "'lrcv = RandomizedSearchCV(lrclf, lgparam, random_state = 42)\\nlrcv.fit(X_train,y_train)\\nlrcv.best_params_'"
      ]
     },
     "execution_count": 165,
     "metadata": {},
     "output_type": "execute_result"
    }
   ],
   "source": [
    "'''lrcv = RandomizedSearchCV(lrclf, lgparam, random_state = 42)\n",
    "lrcv.fit(X_train,y_train)\n",
    "lrcv.best_params_'''"
   ]
  },
  {
   "cell_type": "markdown",
   "metadata": {},
   "source": [
    "**Support Vector Machine**"
   ]
  },
  {
   "cell_type": "code",
   "execution_count": 166,
   "metadata": {
    "execution": {
     "iopub.execute_input": "2022-12-06T16:38:58.234908Z",
     "iopub.status.busy": "2022-12-06T16:38:58.234567Z",
     "iopub.status.idle": "2022-12-06T16:39:22.040977Z",
     "shell.execute_reply": "2022-12-06T16:39:22.039820Z",
     "shell.execute_reply.started": "2022-12-06T16:38:58.234876Z"
    }
   },
   "outputs": [
    {
     "data": {
      "text/plain": [
       "'from sklearn.svm import SVC\\nnp.random.seed(42)\\nsvclf = SVC()\\nsvclf.fit(X_train,y_train)\\nsvclf.score(X_train,y_train)'"
      ]
     },
     "execution_count": 166,
     "metadata": {},
     "output_type": "execute_result"
    }
   ],
   "source": [
    "'''from sklearn.svm import SVC\n",
    "np.random.seed(42)\n",
    "svclf = SVC()\n",
    "svclf.fit(X_train,y_train)\n",
    "svclf.score(X_train,y_train)'''"
   ]
  },
  {
   "cell_type": "code",
   "execution_count": 167,
   "metadata": {
    "execution": {
     "iopub.execute_input": "2022-12-06T16:39:22.042525Z",
     "iopub.status.busy": "2022-12-06T16:39:22.042160Z",
     "iopub.status.idle": "2022-12-06T16:39:27.044281Z",
     "shell.execute_reply": "2022-12-06T16:39:27.041654Z",
     "shell.execute_reply.started": "2022-12-06T16:39:22.042491Z"
    }
   },
   "outputs": [
    {
     "data": {
      "text/plain": [
       "'svc_pred = svclf.predict(X_test)'"
      ]
     },
     "execution_count": 167,
     "metadata": {},
     "output_type": "execute_result"
    }
   ],
   "source": [
    "'''svc_pred = svclf.predict(X_test)'''"
   ]
  },
  {
   "cell_type": "markdown",
   "metadata": {},
   "source": [
    "SVC CV"
   ]
  },
  {
   "cell_type": "code",
   "execution_count": 168,
   "metadata": {
    "execution": {
     "iopub.execute_input": "2022-12-06T16:39:27.050958Z",
     "iopub.status.busy": "2022-12-06T16:39:27.050403Z",
     "iopub.status.idle": "2022-12-06T16:39:27.058333Z",
     "shell.execute_reply": "2022-12-06T16:39:27.056865Z",
     "shell.execute_reply.started": "2022-12-06T16:39:27.050903Z"
    }
   },
   "outputs": [
    {
     "data": {
      "text/plain": [
       "\"svcparam = {'C': [0.01,1,10,100,1000],\\n           #'kernel': ['linear', 'poly', 'rbf', 'sigmoid', 'precomputed'],\\n           'degree': [3,5],\\n           'gamma': ['auto', 'scale']}\""
      ]
     },
     "execution_count": 168,
     "metadata": {},
     "output_type": "execute_result"
    }
   ],
   "source": [
    "'''svcparam = {'C': [0.01,1,10,100,1000],\n",
    "           #'kernel': ['linear', 'poly', 'rbf', 'sigmoid', 'precomputed'],\n",
    "           'degree': [3,5],\n",
    "           'gamma': ['auto', 'scale']}'''"
   ]
  },
  {
   "cell_type": "code",
   "execution_count": 169,
   "metadata": {
    "_kg_hide-output": true,
    "execution": {
     "iopub.execute_input": "2022-12-06T16:40:00.917583Z",
     "iopub.status.busy": "2022-12-06T16:40:00.917169Z",
     "iopub.status.idle": "2022-12-06T16:40:25.286628Z",
     "shell.execute_reply": "2022-12-06T16:40:25.285499Z",
     "shell.execute_reply.started": "2022-12-06T16:40:00.917548Z"
    }
   },
   "outputs": [
    {
     "data": {
      "text/plain": [
       "'svccv = SVC(C = 0.01, degree = 3)\\nsvccv.fit(X_train,y_train)\\nsvccv.score(X_train,y_train)'"
      ]
     },
     "execution_count": 169,
     "metadata": {},
     "output_type": "execute_result"
    }
   ],
   "source": [
    "'''svccv = SVC(C = 0.01, degree = 3)\n",
    "svccv.fit(X_train,y_train)\n",
    "svccv.score(X_train,y_train)'''"
   ]
  },
  {
   "cell_type": "markdown",
   "metadata": {},
   "source": [
    "**K Nearest Neighbors**"
   ]
  },
  {
   "cell_type": "code",
   "execution_count": 170,
   "metadata": {
    "execution": {
     "iopub.status.busy": "2022-12-06T16:39:39.964206Z",
     "iopub.status.idle": "2022-12-06T16:39:39.964660Z",
     "shell.execute_reply": "2022-12-06T16:39:39.964464Z",
     "shell.execute_reply.started": "2022-12-06T16:39:39.964443Z"
    }
   },
   "outputs": [
    {
     "data": {
      "text/plain": [
       "'from sklearn.neighbors import KNeighborsClassifier\\nnp.random.seed(42)\\nknnclf = KNeighborsClassifier()\\nknnclf.fit(X_train,y_train)\\nknnclf.score(X_train,y_train)'"
      ]
     },
     "execution_count": 170,
     "metadata": {},
     "output_type": "execute_result"
    }
   ],
   "source": [
    "'''from sklearn.neighbors import KNeighborsClassifier\n",
    "np.random.seed(42)\n",
    "knnclf = KNeighborsClassifier()\n",
    "knnclf.fit(X_train,y_train)\n",
    "knnclf.score(X_train,y_train)'''"
   ]
  },
  {
   "cell_type": "markdown",
   "metadata": {},
   "source": [
    "**Decision Tree**"
   ]
  },
  {
   "cell_type": "code",
   "execution_count": 171,
   "metadata": {
    "execution": {
     "iopub.status.busy": "2022-12-06T16:39:39.966498Z",
     "iopub.status.idle": "2022-12-06T16:39:39.966959Z",
     "shell.execute_reply": "2022-12-06T16:39:39.966767Z",
     "shell.execute_reply.started": "2022-12-06T16:39:39.966746Z"
    }
   },
   "outputs": [
    {
     "data": {
      "text/plain": [
       "'from sklearn.tree import DecisionTreeClassifier\\nnp.random.seed(42)\\ndstclf = DecisionTreeClassifier()\\ndstclf.fit(X_train,y_train)\\ndstclf.score(X_train,y_train)'"
      ]
     },
     "execution_count": 171,
     "metadata": {},
     "output_type": "execute_result"
    }
   ],
   "source": [
    "'''from sklearn.tree import DecisionTreeClassifier\n",
    "np.random.seed(42)\n",
    "dstclf = DecisionTreeClassifier()\n",
    "dstclf.fit(X_train,y_train)\n",
    "dstclf.score(X_train,y_train)'''"
   ]
  },
  {
   "cell_type": "code",
   "execution_count": 172,
   "metadata": {
    "execution": {
     "iopub.status.busy": "2022-12-06T16:39:39.972395Z",
     "iopub.status.idle": "2022-12-06T16:39:39.973167Z",
     "shell.execute_reply": "2022-12-06T16:39:39.972809Z",
     "shell.execute_reply.started": "2022-12-06T16:39:39.972776Z"
    }
   },
   "outputs": [
    {
     "data": {
      "text/plain": [
       "'dstclf_pred = dstclf.predict(X_test)'"
      ]
     },
     "execution_count": 172,
     "metadata": {},
     "output_type": "execute_result"
    }
   ],
   "source": [
    "'''dstclf_pred = dstclf.predict(X_test)'''"
   ]
  },
  {
   "cell_type": "markdown",
   "metadata": {},
   "source": [
    "**Random Forest**"
   ]
  },
  {
   "cell_type": "code",
   "execution_count": 173,
   "metadata": {
    "execution": {
     "iopub.execute_input": "2022-12-06T16:42:20.495872Z",
     "iopub.status.busy": "2022-12-06T16:42:20.495412Z",
     "iopub.status.idle": "2022-12-06T16:42:22.933036Z",
     "shell.execute_reply": "2022-12-06T16:42:22.931252Z",
     "shell.execute_reply.started": "2022-12-06T16:42:20.495834Z"
    }
   },
   "outputs": [
    {
     "data": {
      "text/plain": [
       "1.0"
      ]
     },
     "execution_count": 173,
     "metadata": {},
     "output_type": "execute_result"
    }
   ],
   "source": [
    "from sklearn.ensemble import RandomForestClassifier\n",
    "np.random.seed(42)\n",
    "rfclf = RandomForestClassifier()\n",
    "rfclf.fit(X_train,y_train)\n",
    "rfclf.score(X_train,y_train)"
   ]
  },
  {
   "cell_type": "code",
   "execution_count": 174,
   "metadata": {
    "execution": {
     "iopub.status.busy": "2022-12-06T16:39:39.977122Z",
     "iopub.status.idle": "2022-12-06T16:39:39.977809Z",
     "shell.execute_reply": "2022-12-06T16:39:39.977524Z",
     "shell.execute_reply.started": "2022-12-06T16:39:39.977495Z"
    }
   },
   "outputs": [],
   "source": [
    "rfclf_pred = rfclf.predict(X_test)"
   ]
  },
  {
   "cell_type": "markdown",
   "metadata": {},
   "source": [
    "> Random Forest CV"
   ]
  },
  {
   "cell_type": "code",
   "execution_count": 175,
   "metadata": {
    "execution": {
     "iopub.execute_input": "2022-12-06T16:52:13.556664Z",
     "iopub.status.busy": "2022-12-06T16:52:13.556249Z",
     "iopub.status.idle": "2022-12-06T16:52:48.859737Z",
     "shell.execute_reply": "2022-12-06T16:52:48.858427Z",
     "shell.execute_reply.started": "2022-12-06T16:52:13.556633Z"
    }
   },
   "outputs": [
    {
     "data": {
      "text/plain": [
       "1.0"
      ]
     },
     "execution_count": 175,
     "metadata": {},
     "output_type": "execute_result"
    }
   ],
   "source": [
    "np.random.seed(42)\n",
    "rfclfcv = RandomForestClassifier(max_depth = 20, n_estimators = 1500)\n",
    "rfclfcv.fit(X_train,y_train)\n",
    "rfclfcv.score(X_train,y_train)"
   ]
  },
  {
   "cell_type": "code",
   "execution_count": 176,
   "metadata": {
    "execution": {
     "iopub.execute_input": "2022-12-06T16:52:53.442764Z",
     "iopub.status.busy": "2022-12-06T16:52:53.442347Z",
     "iopub.status.idle": "2022-12-06T16:52:53.638857Z",
     "shell.execute_reply": "2022-12-06T16:52:53.637583Z",
     "shell.execute_reply.started": "2022-12-06T16:52:53.442730Z"
    }
   },
   "outputs": [],
   "source": [
    "rfclfcv_pred = rfclf.predict(X_test)"
   ]
  },
  {
   "cell_type": "code",
   "execution_count": 183,
   "metadata": {},
   "outputs": [],
   "source": [
    "pickle_out = open(\"classifier.pkl\", mode = \"wb\") \n",
    "pickle.dump(rfclfcv, pickle_out) \n",
    "pickle_out.close()"
   ]
  },
  {
   "cell_type": "markdown",
   "metadata": {},
   "source": [
    "**Multi Layered Perceptron**"
   ]
  },
  {
   "cell_type": "code",
   "execution_count": 177,
   "metadata": {
    "execution": {
     "iopub.status.busy": "2022-12-06T16:39:39.979565Z",
     "iopub.status.idle": "2022-12-06T16:39:39.980222Z",
     "shell.execute_reply": "2022-12-06T16:39:39.979919Z",
     "shell.execute_reply.started": "2022-12-06T16:39:39.979890Z"
    }
   },
   "outputs": [
    {
     "data": {
      "text/plain": [
       "'from sklearn.neural_network import MLPClassifier\\nnp.random.seed(42)\\nmlpclf = MLPClassifier()\\nmlpclf.fit(X_train,y_train)\\nmlpclf.score(X_train,y_train)'"
      ]
     },
     "execution_count": 177,
     "metadata": {},
     "output_type": "execute_result"
    }
   ],
   "source": [
    "'''from sklearn.neural_network import MLPClassifier\n",
    "np.random.seed(42)\n",
    "mlpclf = MLPClassifier()\n",
    "mlpclf.fit(X_train,y_train)\n",
    "mlpclf.score(X_train,y_train)'''"
   ]
  },
  {
   "cell_type": "code",
   "execution_count": 178,
   "metadata": {
    "execution": {
     "iopub.status.busy": "2022-12-06T16:39:39.982022Z",
     "iopub.status.idle": "2022-12-06T16:39:39.982688Z",
     "shell.execute_reply": "2022-12-06T16:39:39.982399Z",
     "shell.execute_reply.started": "2022-12-06T16:39:39.982368Z"
    }
   },
   "outputs": [
    {
     "data": {
      "text/plain": [
       "'mlpclf_pred = mlpclf.predict(X_test)'"
      ]
     },
     "execution_count": 178,
     "metadata": {},
     "output_type": "execute_result"
    }
   ],
   "source": [
    "'''mlpclf_pred = mlpclf.predict(X_test)'''"
   ]
  },
  {
   "cell_type": "markdown",
   "metadata": {},
   "source": [
    "**Gradient Boost**"
   ]
  },
  {
   "cell_type": "code",
   "execution_count": 179,
   "metadata": {
    "execution": {
     "iopub.status.busy": "2022-12-06T16:39:39.985926Z",
     "iopub.status.idle": "2022-12-06T16:39:39.986610Z",
     "shell.execute_reply": "2022-12-06T16:39:39.986321Z",
     "shell.execute_reply.started": "2022-12-06T16:39:39.986286Z"
    }
   },
   "outputs": [
    {
     "data": {
      "text/plain": [
       "'from sklearn.ensemble import GradientBoostingClassifier\\nnp.random.seed(42)\\ngbclf = GradientBoostingClassifier()\\ngbclf.fit(X_train,y_train)\\ngbclf.score(X_train,y_train)'"
      ]
     },
     "execution_count": 179,
     "metadata": {},
     "output_type": "execute_result"
    }
   ],
   "source": [
    "'''from sklearn.ensemble import GradientBoostingClassifier\n",
    "np.random.seed(42)\n",
    "gbclf = GradientBoostingClassifier()\n",
    "gbclf.fit(X_train,y_train)\n",
    "gbclf.score(X_train,y_train)'''"
   ]
  },
  {
   "cell_type": "markdown",
   "metadata": {},
   "source": [
    "**XG Boost**"
   ]
  },
  {
   "cell_type": "code",
   "execution_count": 180,
   "metadata": {
    "execution": {
     "iopub.status.busy": "2022-12-06T16:39:39.988500Z",
     "iopub.status.idle": "2022-12-06T16:39:39.989115Z",
     "shell.execute_reply": "2022-12-06T16:39:39.988835Z",
     "shell.execute_reply.started": "2022-12-06T16:39:39.988807Z"
    }
   },
   "outputs": [
    {
     "data": {
      "text/plain": [
       "'from xgboost import XGBClassifier\\nnp.random.seed(42)\\nxgbclf = XGBClassifier(n_estimators = 1000)\\nxgbclf.fit(X_train,y_train)\\nxgbclf.score(X_train,y_train)'"
      ]
     },
     "execution_count": 180,
     "metadata": {},
     "output_type": "execute_result"
    }
   ],
   "source": [
    "'''from xgboost import XGBClassifier\n",
    "np.random.seed(42)\n",
    "xgbclf = XGBClassifier(n_estimators = 1000)\n",
    "xgbclf.fit(X_train,y_train)\n",
    "xgbclf.score(X_train,y_train)'''"
   ]
  },
  {
   "cell_type": "code",
   "execution_count": 181,
   "metadata": {
    "execution": {
     "iopub.status.busy": "2022-12-06T16:39:39.992616Z",
     "iopub.status.idle": "2022-12-06T16:39:39.993346Z",
     "shell.execute_reply": "2022-12-06T16:39:39.992994Z",
     "shell.execute_reply.started": "2022-12-06T16:39:39.992963Z"
    }
   },
   "outputs": [
    {
     "data": {
      "text/plain": [
       "'xgbclf_pred = xgbclf.predict(X_test)'"
      ]
     },
     "execution_count": 181,
     "metadata": {},
     "output_type": "execute_result"
    }
   ],
   "source": [
    "'''xgbclf_pred = xgbclf.predict(X_test)'''"
   ]
  },
  {
   "cell_type": "markdown",
   "metadata": {},
   "source": [
    "# **Creating Submission**"
   ]
  },
  {
   "cell_type": "code",
   "execution_count": 182,
   "metadata": {
    "execution": {
     "iopub.execute_input": "2022-12-06T17:37:46.938903Z",
     "iopub.status.busy": "2022-12-06T17:37:46.938369Z",
     "iopub.status.idle": "2022-12-06T17:37:46.970039Z",
     "shell.execute_reply": "2022-12-06T17:37:46.968272Z",
     "shell.execute_reply.started": "2022-12-06T17:37:46.938862Z"
    }
   },
   "outputs": [
    {
     "data": {
      "text/plain": [
       "\"submission=pd.DataFrame(columns=['id','Offer Accepted'])\\nsubmission['id']=[i for i in range(len(X_test))]\\nsubmission['Offer Accepted']=[i for i in rfclfcv_pred]\\noffer_dict = {0: 'No', 1: 'Yes'}\\nsubmission['Offer Accepted'] = submission['Offer Accepted'].map(offer_dict)\\nsubmission.to_csv('submission.csv',index=False)\""
      ]
     },
     "execution_count": 182,
     "metadata": {},
     "output_type": "execute_result"
    }
   ],
   "source": [
    "\"\"\"submission=pd.DataFrame(columns=['id','Offer Accepted'])\n",
    "submission['id']=[i for i in range(len(X_test))]\n",
    "submission['Offer Accepted']=[i for i in rfclfcv_pred]\n",
    "offer_dict = {0: 'No', 1: 'Yes'}\n",
    "submission['Offer Accepted'] = submission['Offer Accepted'].map(offer_dict)\n",
    "submission.to_csv('submission.csv',index=False)\"\"\""
   ]
  },
  {
   "cell_type": "markdown",
   "metadata": {},
   "source": [
    "# Insights"
   ]
  },
  {
   "cell_type": "markdown",
   "metadata": {},
   "source": [
    "**Sample size of data set: 12,379\\\n",
    "Number of features used to determine acceptance of offer: 28\\\n",
    "Accuracy of Random Forest Classifier: 61.56%**\n",
    "* 57.94% males accept the offer\n",
    "* Samples falling in Income Range beloew 12,500 accept the offer the most with 57.90%\n",
    "* Samples with marital status as \"Single\" are most likely to accept the offer\n",
    "* Samples whose profession is Architecture and Engineering accept the offer the most with 67.97%"
   ]
  },
  {
   "cell_type": "code",
   "execution_count": 184,
   "metadata": {},
   "outputs": [
    {
     "ename": "NameError",
     "evalue": "name 'classifier' is not defined",
     "output_type": "error",
     "traceback": [
      "\u001b[1;31m---------------------------------------------------------------------------\u001b[0m",
      "\u001b[1;31mNameError\u001b[0m                                 Traceback (most recent call last)",
      "\u001b[1;32m<ipython-input-184-f00bbf553240>\u001b[0m in \u001b[0;36m<module>\u001b[1;34m\u001b[0m\n\u001b[1;32m----> 1\u001b[1;33m \u001b[0mclassifier\u001b[0m\u001b[1;33m.\u001b[0m\u001b[0mpkl\u001b[0m\u001b[1;33m\u001b[0m\u001b[1;33m\u001b[0m\u001b[0m\n\u001b[0m",
      "\u001b[1;31mNameError\u001b[0m: name 'classifier' is not defined"
     ]
    }
   ],
   "source": [
    "classifier.pkl"
   ]
  },
  {
   "cell_type": "code",
   "execution_count": null,
   "metadata": {},
   "outputs": [],
   "source": []
  }
 ],
 "metadata": {
  "kernelspec": {
   "display_name": "Python 3",
   "language": "python",
   "name": "python3"
  },
  "language_info": {
   "codemirror_mode": {
    "name": "ipython",
    "version": 3
   },
   "file_extension": ".py",
   "mimetype": "text/x-python",
   "name": "python",
   "nbconvert_exporter": "python",
   "pygments_lexer": "ipython3",
   "version": "3.8.5"
  }
 },
 "nbformat": 4,
 "nbformat_minor": 4
}
